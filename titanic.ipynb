{
 "cells": [
  {
   "cell_type": "markdown",
   "id": "45e1496b-7d01-4a38-a04f-87a9371954d0",
   "metadata": {},
   "source": [
    "# Imports"
   ]
  },
  {
   "cell_type": "code",
   "execution_count": 106,
   "id": "2d6befbd-56dc-4578-b05a-8a69807a6e60",
   "metadata": {},
   "outputs": [],
   "source": [
    "# general\n",
    "import pandas as pd\n",
    "import numpy as np\n",
    "import re\n",
    "import matplotlib as mpl\n",
    "import matplotlib.pyplot as plt\n",
    "import seaborn as sns\n",
    "import os\n",
    "import joblib\n",
    "\n",
    "# to ingore pandas warnings\n",
    "import warnings\n",
    "\n",
    "# preprocessing\n",
    "from scipy.stats import norm\n",
    "from sklearn.preprocessing import MinMaxScaler\n",
    "\n",
    "# import models\n",
    "from sklearn.linear_model import LogisticRegression\n",
    "from sklearn.tree import DecisionTreeClassifier\n",
    "from sklearn.ensemble import RandomForestClassifier\n",
    "from sklearn.svm import SVC\n",
    "from sklearn.naive_bayes import GaussianNB\n",
    "from sklearn.neighbors import KNeighborsClassifier\n",
    "from sklearn.neural_network import MLPClassifier\n",
    "from sklearn.ensemble import AdaBoostClassifier\n",
    "\n",
    "# metrics\n",
    "from sklearn.metrics import accuracy_score\n",
    "\n",
    "# optimizer\n",
    "from sklearn.model_selection import GridSearchCV\n",
    "\n",
    "# k-fold cross-validation\n",
    "from sklearn.model_selection import cross_val_score\n",
    "\n",
    "# chi-squared\n",
    "from scipy.stats import chi2_contingency\n",
    "\n",
    "# ANOVA\n",
    "import statsmodels.api as sm"
   ]
  },
  {
   "cell_type": "markdown",
   "id": "cd4eac53-3142-42f6-9ac8-829cc5083473",
   "metadata": {},
   "source": [
    "<b> Functions for training and evaluating models </b>"
   ]
  },
  {
   "cell_type": "markdown",
   "id": "89c34502-9835-4b02-94e6-f8bb2e57506f",
   "metadata": {
    "jp-MarkdownHeadingCollapsed": true
   },
   "source": [
    "# Initial Data"
   ]
  },
  {
   "cell_type": "markdown",
   "id": "38aaed4c-9271-46fa-ae60-c45edade7606",
   "metadata": {},
   "source": [
    "Load data"
   ]
  },
  {
   "cell_type": "code",
   "execution_count": 2,
   "id": "e644cf81-c73f-402f-9b06-bca29dda1cbf",
   "metadata": {},
   "outputs": [],
   "source": [
    "train_df = pd.read_csv(\"train.csv\")\n",
    "test_df = pd.read_csv(\"test.csv\")\n",
    "full_df = pd.read_csv(\"titanic.csv\")"
   ]
  },
  {
   "cell_type": "markdown",
   "id": "6c160275-800c-4469-8d69-9d6007e58864",
   "metadata": {},
   "source": [
    "Ignore pandas warnings"
   ]
  },
  {
   "cell_type": "code",
   "execution_count": 3,
   "id": "d68c932f-ed21-4f78-b8e6-6fa01fbf05c8",
   "metadata": {},
   "outputs": [],
   "source": [
    "warnings.filterwarnings('ignore')"
   ]
  },
  {
   "cell_type": "markdown",
   "id": "160edc85-c029-4d69-a082-488ca32660d5",
   "metadata": {},
   "source": [
    "Set column names to lower case"
   ]
  },
  {
   "cell_type": "code",
   "execution_count": 4,
   "id": "ee1ed3ac-478a-44f3-a578-7099e0879c03",
   "metadata": {},
   "outputs": [],
   "source": [
    "test_df.columns = [column.lower() for column in test_df.columns]\n",
    "train_df.columns = [column.lower() for column in train_df.columns]"
   ]
  },
  {
   "cell_type": "markdown",
   "id": "ca0d742a-9b72-4d67-b57c-ad98e2400a86",
   "metadata": {},
   "source": [
    "Remove quotation marks from names"
   ]
  },
  {
   "cell_type": "code",
   "execution_count": 5,
   "id": "1ff4b00d-3a39-4296-9ec6-6d17e527de37",
   "metadata": {},
   "outputs": [],
   "source": [
    "for i, name in enumerate(train_df[\"name\"]):\n",
    "    if '\"' in name:\n",
    "        train_df[\"name\"][i] = re.sub('\"', '', name)\n",
    "\n",
    "for i, name in enumerate(test_df[\"name\"]):\n",
    "    if '\"' in name:\n",
    "        test_df[\"name\"][i] = re.sub('\"', '', name)\n",
    "\n",
    "for i, name in enumerate(full_df[\"name\"]):\n",
    "    if '\"' in name:\n",
    "        full_df[\"name\"][i] = re.sub('\"', '', name)"
   ]
  },
  {
   "cell_type": "markdown",
   "id": "b8679109-2d93-483d-bf1d-6a744e50017b",
   "metadata": {},
   "source": [
    "The features; `passangerid` and `ticket` are useless, while `cabin` is missing for most instances. We'll remove them."
   ]
  },
  {
   "cell_type": "code",
   "execution_count": 6,
   "id": "553defb1-6c96-4df1-bff2-c9251c6fa6c5",
   "metadata": {
    "scrolled": true
   },
   "outputs": [],
   "source": [
    "full_df = full_df.drop(columns=[\"boat\", \"body\", \"home.dest\", 'ticket', 'cabin'])\n",
    "train_df = train_df.drop(columns=['cabin', 'passengerid', 'ticket'])"
   ]
  },
  {
   "cell_type": "markdown",
   "id": "8ddc423b-922f-4554-aabc-7b9bef5f608b",
   "metadata": {},
   "source": [
    "Add `survived` to the test data from the full dataset, then change the order of columns to match the training set."
   ]
  },
  {
   "cell_type": "code",
   "execution_count": 7,
   "id": "08abdf3d-212d-4fb2-b423-585dab9fc5a7",
   "metadata": {
    "scrolled": true
   },
   "outputs": [],
   "source": [
    "test_with_labels = pd.merge(test_df, full_df, how='left')\n",
    "test_df = test_with_labels[list(train_df.columns)]"
   ]
  },
  {
   "cell_type": "markdown",
   "id": "dcf11378-a46a-486a-90b1-6044ad12ca3c",
   "metadata": {},
   "source": [
    "Get the target labels."
   ]
  },
  {
   "cell_type": "code",
   "execution_count": 8,
   "id": "be9d25be-0725-4c86-8159-e8ecce0df13f",
   "metadata": {},
   "outputs": [],
   "source": [
    "y_train = train_df['survived']\n",
    "y_test = test_df['survived']"
   ]
  },
  {
   "cell_type": "code",
   "execution_count": 9,
   "id": "a3ce6776-eb9c-440b-9d11-ac0d406b763f",
   "metadata": {},
   "outputs": [],
   "source": [
    "full_df = [train_df, test_df]"
   ]
  },
  {
   "cell_type": "markdown",
   "id": "91cda489-1e9b-44a8-9fe1-62c9960c7e74",
   "metadata": {},
   "source": [
    "# Features"
   ]
  },
  {
   "cell_type": "markdown",
   "id": "436a24e0-72eb-42cb-ac37-6d3dc936151e",
   "metadata": {},
   "source": [
    "## 1. `sex` and `pclass`"
   ]
  },
  {
   "cell_type": "markdown",
   "id": "7c94cfe2-b5cc-46d6-9b60-ae58199613b5",
   "metadata": {},
   "source": [
    "`sex` and `pclass` are obvious predictors. There's a clear pattern in the survival rate across the factor levels."
   ]
  },
  {
   "cell_type": "code",
   "execution_count": 10,
   "id": "e0ec6ef8-e48c-40e8-828e-ffe45a473678",
   "metadata": {},
   "outputs": [
    {
     "data": {
      "text/html": [
       "<div>\n",
       "<style scoped>\n",
       "    .dataframe tbody tr th:only-of-type {\n",
       "        vertical-align: middle;\n",
       "    }\n",
       "\n",
       "    .dataframe tbody tr th {\n",
       "        vertical-align: top;\n",
       "    }\n",
       "\n",
       "    .dataframe thead th {\n",
       "        text-align: right;\n",
       "    }\n",
       "</style>\n",
       "<table border=\"1\" class=\"dataframe\">\n",
       "  <thead>\n",
       "    <tr style=\"text-align: right;\">\n",
       "      <th></th>\n",
       "      <th>survived</th>\n",
       "    </tr>\n",
       "    <tr>\n",
       "      <th>sex</th>\n",
       "      <th></th>\n",
       "    </tr>\n",
       "  </thead>\n",
       "  <tbody>\n",
       "    <tr>\n",
       "      <th>female</th>\n",
       "      <td>0.742038</td>\n",
       "    </tr>\n",
       "    <tr>\n",
       "      <th>male</th>\n",
       "      <td>0.188908</td>\n",
       "    </tr>\n",
       "  </tbody>\n",
       "</table>\n",
       "</div>"
      ],
      "text/plain": [
       "        survived\n",
       "sex             \n",
       "female  0.742038\n",
       "male    0.188908"
      ]
     },
     "execution_count": 10,
     "metadata": {},
     "output_type": "execute_result"
    }
   ],
   "source": [
    "train_df[['sex', 'survived']].groupby(['sex']).mean()"
   ]
  },
  {
   "cell_type": "code",
   "execution_count": 11,
   "id": "4ec62a4b-a0d2-4e3f-be4e-b9565d9c859d",
   "metadata": {},
   "outputs": [
    {
     "data": {
      "text/html": [
       "<div>\n",
       "<style scoped>\n",
       "    .dataframe tbody tr th:only-of-type {\n",
       "        vertical-align: middle;\n",
       "    }\n",
       "\n",
       "    .dataframe tbody tr th {\n",
       "        vertical-align: top;\n",
       "    }\n",
       "\n",
       "    .dataframe thead th {\n",
       "        text-align: right;\n",
       "    }\n",
       "</style>\n",
       "<table border=\"1\" class=\"dataframe\">\n",
       "  <thead>\n",
       "    <tr style=\"text-align: right;\">\n",
       "      <th></th>\n",
       "      <th>survived</th>\n",
       "    </tr>\n",
       "    <tr>\n",
       "      <th>pclass</th>\n",
       "      <th></th>\n",
       "    </tr>\n",
       "  </thead>\n",
       "  <tbody>\n",
       "    <tr>\n",
       "      <th>1</th>\n",
       "      <td>0.629630</td>\n",
       "    </tr>\n",
       "    <tr>\n",
       "      <th>2</th>\n",
       "      <td>0.472826</td>\n",
       "    </tr>\n",
       "    <tr>\n",
       "      <th>3</th>\n",
       "      <td>0.242363</td>\n",
       "    </tr>\n",
       "  </tbody>\n",
       "</table>\n",
       "</div>"
      ],
      "text/plain": [
       "        survived\n",
       "pclass          \n",
       "1       0.629630\n",
       "2       0.472826\n",
       "3       0.242363"
      ]
     },
     "execution_count": 11,
     "metadata": {},
     "output_type": "execute_result"
    }
   ],
   "source": [
    "train_df[['pclass', 'survived']].groupby(['pclass']).mean()"
   ]
  },
  {
   "cell_type": "markdown",
   "id": "bc0d61c6-d7e4-4649-9a89-fab00977156b",
   "metadata": {},
   "source": [
    "## 2. `name`"
   ]
  },
  {
   "cell_type": "markdown",
   "id": "4e1d9ce5-5651-4a03-8a7a-9b365b30915e",
   "metadata": {},
   "source": [
    "From the `name` feature we extract the titles."
   ]
  },
  {
   "cell_type": "code",
   "execution_count": 151,
   "id": "45bd79c9-5116-46e7-8ae3-51686a11f1f8",
   "metadata": {},
   "outputs": [
    {
     "data": {
      "text/html": [
       "<div>\n",
       "<style scoped>\n",
       "    .dataframe tbody tr th:only-of-type {\n",
       "        vertical-align: middle;\n",
       "    }\n",
       "\n",
       "    .dataframe tbody tr th {\n",
       "        vertical-align: top;\n",
       "    }\n",
       "\n",
       "    .dataframe thead th {\n",
       "        text-align: right;\n",
       "    }\n",
       "</style>\n",
       "<table border=\"1\" class=\"dataframe\">\n",
       "  <thead>\n",
       "    <tr style=\"text-align: right;\">\n",
       "      <th>sex</th>\n",
       "      <th>female</th>\n",
       "      <th>male</th>\n",
       "    </tr>\n",
       "    <tr>\n",
       "      <th>title</th>\n",
       "      <th></th>\n",
       "      <th></th>\n",
       "    </tr>\n",
       "  </thead>\n",
       "  <tbody>\n",
       "    <tr>\n",
       "      <th>Capt.</th>\n",
       "      <td>0</td>\n",
       "      <td>1</td>\n",
       "    </tr>\n",
       "    <tr>\n",
       "      <th>Col.</th>\n",
       "      <td>0</td>\n",
       "      <td>2</td>\n",
       "    </tr>\n",
       "    <tr>\n",
       "      <th>Countess.</th>\n",
       "      <td>1</td>\n",
       "      <td>0</td>\n",
       "    </tr>\n",
       "    <tr>\n",
       "      <th>Don.</th>\n",
       "      <td>0</td>\n",
       "      <td>1</td>\n",
       "    </tr>\n",
       "    <tr>\n",
       "      <th>Dr.</th>\n",
       "      <td>1</td>\n",
       "      <td>6</td>\n",
       "    </tr>\n",
       "    <tr>\n",
       "      <th>Jonkheer.</th>\n",
       "      <td>0</td>\n",
       "      <td>1</td>\n",
       "    </tr>\n",
       "    <tr>\n",
       "      <th>Lady.</th>\n",
       "      <td>1</td>\n",
       "      <td>0</td>\n",
       "    </tr>\n",
       "    <tr>\n",
       "      <th>Major.</th>\n",
       "      <td>0</td>\n",
       "      <td>2</td>\n",
       "    </tr>\n",
       "    <tr>\n",
       "      <th>Master.</th>\n",
       "      <td>0</td>\n",
       "      <td>40</td>\n",
       "    </tr>\n",
       "    <tr>\n",
       "      <th>Miss.</th>\n",
       "      <td>182</td>\n",
       "      <td>0</td>\n",
       "    </tr>\n",
       "    <tr>\n",
       "      <th>Mlle.</th>\n",
       "      <td>2</td>\n",
       "      <td>0</td>\n",
       "    </tr>\n",
       "    <tr>\n",
       "      <th>Mme.</th>\n",
       "      <td>1</td>\n",
       "      <td>0</td>\n",
       "    </tr>\n",
       "    <tr>\n",
       "      <th>Mr.</th>\n",
       "      <td>0</td>\n",
       "      <td>517</td>\n",
       "    </tr>\n",
       "    <tr>\n",
       "      <th>Mrs.</th>\n",
       "      <td>125</td>\n",
       "      <td>0</td>\n",
       "    </tr>\n",
       "    <tr>\n",
       "      <th>Ms.</th>\n",
       "      <td>1</td>\n",
       "      <td>0</td>\n",
       "    </tr>\n",
       "    <tr>\n",
       "      <th>Rev.</th>\n",
       "      <td>0</td>\n",
       "      <td>6</td>\n",
       "    </tr>\n",
       "    <tr>\n",
       "      <th>Sir.</th>\n",
       "      <td>0</td>\n",
       "      <td>1</td>\n",
       "    </tr>\n",
       "  </tbody>\n",
       "</table>\n",
       "</div>"
      ],
      "text/plain": [
       "sex        female  male\n",
       "title                  \n",
       "Capt.           0     1\n",
       "Col.            0     2\n",
       "Countess.       1     0\n",
       "Don.            0     1\n",
       "Dr.             1     6\n",
       "Jonkheer.       0     1\n",
       "Lady.           1     0\n",
       "Major.          0     2\n",
       "Master.         0    40\n",
       "Miss.         182     0\n",
       "Mlle.           2     0\n",
       "Mme.            1     0\n",
       "Mr.             0   517\n",
       "Mrs.          125     0\n",
       "Ms.             1     0\n",
       "Rev.            0     6\n",
       "Sir.            0     1"
      ]
     },
     "execution_count": 151,
     "metadata": {},
     "output_type": "execute_result"
    }
   ],
   "source": [
    "train_df['title'] = train_df['name'].str.extract(r'([A-Za-z]+\\.)')\n",
    "test_df['title'] = test_df['name'].str.extract(r'([A-Za-z]+\\.)')\n",
    "pd.crosstab(train_df['title'], train_df['sex'])"
   ]
  },
  {
   "cell_type": "markdown",
   "id": "031c2b92-5052-4571-bb05-149c966a741b",
   "metadata": {},
   "source": [
    "Majority of the titles belong to 'Master.', 'Miss.', 'Mrs.', and 'Mr.'. We clean up the rest into either of these, or into 'Rare' next."
   ]
  },
  {
   "cell_type": "code",
   "execution_count": 152,
   "id": "2fc8ac98-6f38-47e8-b38d-73ee0afff9db",
   "metadata": {},
   "outputs": [],
   "source": [
    "for frame in full_df:\n",
    "    frame['title'] = frame['title'].replace(['Capt.', 'Col.', 'Countess.', 'Don.', 'Dr.', 'Jonkheer.', 'Lady.', 'Major.', 'Rev.', 'Sir.', 'Dona.' ],\n",
    "                                             'Rare')\n",
    "    frame['title'] = frame['title'].replace(['Mlle.', 'Ms.'], 'Miss.')\n",
    "    frame['title'] = frame['title'].replace('Mme.', 'Mrs.')"
   ]
  },
  {
   "cell_type": "code",
   "execution_count": 153,
   "id": "17d2b70e-5081-476a-baf1-674333ab6c92",
   "metadata": {},
   "outputs": [
    {
     "data": {
      "text/html": [
       "<div>\n",
       "<style scoped>\n",
       "    .dataframe tbody tr th:only-of-type {\n",
       "        vertical-align: middle;\n",
       "    }\n",
       "\n",
       "    .dataframe tbody tr th {\n",
       "        vertical-align: top;\n",
       "    }\n",
       "\n",
       "    .dataframe thead th {\n",
       "        text-align: right;\n",
       "    }\n",
       "</style>\n",
       "<table border=\"1\" class=\"dataframe\">\n",
       "  <thead>\n",
       "    <tr style=\"text-align: right;\">\n",
       "      <th></th>\n",
       "      <th>survived</th>\n",
       "    </tr>\n",
       "    <tr>\n",
       "      <th>title</th>\n",
       "      <th></th>\n",
       "    </tr>\n",
       "  </thead>\n",
       "  <tbody>\n",
       "    <tr>\n",
       "      <th>Master.</th>\n",
       "      <td>0.575000</td>\n",
       "    </tr>\n",
       "    <tr>\n",
       "      <th>Miss.</th>\n",
       "      <td>0.702703</td>\n",
       "    </tr>\n",
       "    <tr>\n",
       "      <th>Mr.</th>\n",
       "      <td>0.156673</td>\n",
       "    </tr>\n",
       "    <tr>\n",
       "      <th>Mrs.</th>\n",
       "      <td>0.793651</td>\n",
       "    </tr>\n",
       "    <tr>\n",
       "      <th>Rare</th>\n",
       "      <td>0.347826</td>\n",
       "    </tr>\n",
       "  </tbody>\n",
       "</table>\n",
       "</div>"
      ],
      "text/plain": [
       "         survived\n",
       "title            \n",
       "Master.  0.575000\n",
       "Miss.    0.702703\n",
       "Mr.      0.156673\n",
       "Mrs.     0.793651\n",
       "Rare     0.347826"
      ]
     },
     "execution_count": 153,
     "metadata": {},
     "output_type": "execute_result"
    }
   ],
   "source": [
    "train_df[['title', 'survived']].groupby(['title']).mean()"
   ]
  },
  {
   "cell_type": "markdown",
   "id": "d8d7206e-e5ab-4883-b3a9-f6d80f20d746",
   "metadata": {},
   "source": [
    "## 3. `age`"
   ]
  },
  {
   "cell_type": "markdown",
   "id": "ae2ff419-e1b1-48d6-b9d6-a7670db9ea09",
   "metadata": {},
   "source": [
    "Fill `age` with values from the fitted normal distribution.\n",
    "\n",
    "Fit a normal distribution to the `age` column, then draw a sample from that distribution and fill the missing values using the sample. "
   ]
  },
  {
   "cell_type": "code",
   "execution_count": 15,
   "id": "5a86f0b9-c370-4590-8c53-f8208657055a",
   "metadata": {},
   "outputs": [
    {
     "data": {
      "image/png": "[encoded data removed]",
      "text/plain": [
       "<Figure size 640x480 with 1 Axes>"
      ]
     },
     "metadata": {},
     "output_type": "display_data"
    }
   ],
   "source": [
    "# fit normal distribution to age\n",
    "age_nona = train_df[train_df['age'].isna() == False]['age']\n",
    "fit_params = norm.fit(age_nona)\n",
    "mean, std_dev = fit_params\n",
    "\n",
    "# get avlues\n",
    "random_sample = norm.rvs(mean, std_dev, size=200, random_state=42)\n",
    "# limit values to be > 0\n",
    "positive_random_sample = random_sample[random_sample > 0]\n",
    "\n",
    "# fill values to datasets\n",
    "for frame in full_df:\n",
    "    # obtain the indices of the missing values\n",
    "    missing_indices = frame.index[frame['age'].isnull()]\n",
    "    \n",
    "    # fill the instances with the random sample\n",
    "    frame.loc[missing_indices, 'age'] = positive_random_sample[:len(missing_indices)]\n",
    "\n",
    "#plot\n",
    "plt.hist(train_df['age'], bins=50, edgecolor='white', color='red');\n",
    "plt.ylabel('Counts');\n",
    "plt.xlabel('Age');"
   ]
  },
  {
   "cell_type": "markdown",
   "id": "7a24479e-3948-40d7-a77f-6f0b51d172bb",
   "metadata": {},
   "source": [
    "The distribution looks unchanged, this looks good.\n",
    "\n",
    "We also normalize `age`."
   ]
  },
  {
   "cell_type": "code",
   "execution_count": 16,
   "id": "e68b4edf-5072-4549-ae13-3a1a67205bbd",
   "metadata": {},
   "outputs": [],
   "source": [
    "scaler = MinMaxScaler()\n",
    "for frame in full_df:\n",
    "    frame['age_scaled'] = scaler.fit_transform(frame[['age']])"
   ]
  },
  {
   "cell_type": "markdown",
   "id": "c6dacc7a-1f2a-4691-a228-101c04dd33aa",
   "metadata": {},
   "source": [
    "## 4. `fare`"
   ]
  },
  {
   "cell_type": "markdown",
   "id": "57f70baa-e406-4785-9477-8072e1851d5f",
   "metadata": {},
   "source": [
    "Fill the missing value in the test set then normalize `fare` too."
   ]
  },
  {
   "cell_type": "code",
   "execution_count": 17,
   "id": "f169ad00-1bb1-4193-9f99-b5afc3b16cca",
   "metadata": {},
   "outputs": [],
   "source": [
    "test_df['fare'].fillna(train_df['fare'].median(), inplace=True)"
   ]
  },
  {
   "cell_type": "code",
   "execution_count": 18,
   "id": "32b1af9c-4659-4ca1-a4e6-917d4d960528",
   "metadata": {},
   "outputs": [],
   "source": [
    "for frame in full_df:\n",
    "    frame['fare_scaled'] = scaler.fit_transform(frame[['fare']])"
   ]
  },
  {
   "cell_type": "markdown",
   "id": "649f2026-189d-4338-8377-fb483c8574b6",
   "metadata": {},
   "source": [
    "## 5. `sibsp` and `parch`"
   ]
  },
  {
   "cell_type": "markdown",
   "id": "d916030f-df49-4cee-b260-9b62160eee07",
   "metadata": {},
   "source": [
    "The features `sibsp` and `parch` are very similar and difficult to comprehend. Combine."
   ]
  },
  {
   "cell_type": "code",
   "execution_count": 135,
   "id": "72065f06-5927-466b-ac95-9dd4a57ecdfc",
   "metadata": {},
   "outputs": [
    {
     "data": {
      "text/html": [
       "<div>\n",
       "<style scoped>\n",
       "    .dataframe tbody tr th:only-of-type {\n",
       "        vertical-align: middle;\n",
       "    }\n",
       "\n",
       "    .dataframe tbody tr th {\n",
       "        vertical-align: top;\n",
       "    }\n",
       "\n",
       "    .dataframe thead th {\n",
       "        text-align: right;\n",
       "    }\n",
       "</style>\n",
       "<table border=\"1\" class=\"dataframe\">\n",
       "  <thead>\n",
       "    <tr style=\"text-align: right;\">\n",
       "      <th></th>\n",
       "      <th>survived</th>\n",
       "    </tr>\n",
       "    <tr>\n",
       "      <th>alone</th>\n",
       "      <th></th>\n",
       "    </tr>\n",
       "  </thead>\n",
       "  <tbody>\n",
       "    <tr>\n",
       "      <th>False</th>\n",
       "      <td>0.505650</td>\n",
       "    </tr>\n",
       "    <tr>\n",
       "      <th>True</th>\n",
       "      <td>0.303538</td>\n",
       "    </tr>\n",
       "  </tbody>\n",
       "</table>\n",
       "</div>"
      ],
      "text/plain": [
       "       survived\n",
       "alone          \n",
       "False  0.505650\n",
       "True   0.303538"
      ]
     },
     "execution_count": 135,
     "metadata": {},
     "output_type": "execute_result"
    }
   ],
   "source": [
    "for frame in full_df:\n",
    "    frame['alone'] = (frame['sibsp'] == 0) & (frame['parch'] == 0)\n",
    "train_df[['alone', 'survived']].groupby(['alone']).mean()"
   ]
  },
  {
   "cell_type": "markdown",
   "id": "1a1a26d6-25b9-4f8d-9529-42272f565108",
   "metadata": {},
   "source": [
    "## 6. 'embarked'"
   ]
  },
  {
   "cell_type": "markdown",
   "id": "6bfd4c0a-fb72-49f5-b19d-63bec2b0c282",
   "metadata": {},
   "source": [
    "Missing some values, so fill in `embarked` with the most popular value "
   ]
  },
  {
   "cell_type": "code",
   "execution_count": 20,
   "id": "490853c8-01d8-4dfa-bc0e-3db915c10ba8",
   "metadata": {},
   "outputs": [
    {
     "data": {
      "text/html": [
       "<div>\n",
       "<style scoped>\n",
       "    .dataframe tbody tr th:only-of-type {\n",
       "        vertical-align: middle;\n",
       "    }\n",
       "\n",
       "    .dataframe tbody tr th {\n",
       "        vertical-align: top;\n",
       "    }\n",
       "\n",
       "    .dataframe thead th {\n",
       "        text-align: right;\n",
       "    }\n",
       "</style>\n",
       "<table border=\"1\" class=\"dataframe\">\n",
       "  <thead>\n",
       "    <tr style=\"text-align: right;\">\n",
       "      <th></th>\n",
       "      <th>survived</th>\n",
       "    </tr>\n",
       "    <tr>\n",
       "      <th>embarked</th>\n",
       "      <th></th>\n",
       "    </tr>\n",
       "  </thead>\n",
       "  <tbody>\n",
       "    <tr>\n",
       "      <th>C</th>\n",
       "      <td>0.553571</td>\n",
       "    </tr>\n",
       "    <tr>\n",
       "      <th>Q</th>\n",
       "      <td>0.389610</td>\n",
       "    </tr>\n",
       "    <tr>\n",
       "      <th>S</th>\n",
       "      <td>0.339009</td>\n",
       "    </tr>\n",
       "  </tbody>\n",
       "</table>\n",
       "</div>"
      ],
      "text/plain": [
       "          survived\n",
       "embarked          \n",
       "C         0.553571\n",
       "Q         0.389610\n",
       "S         0.339009"
      ]
     },
     "execution_count": 20,
     "metadata": {},
     "output_type": "execute_result"
    }
   ],
   "source": [
    "train_df['embarked'].fillna(train_df['embarked'].mode()[0], inplace=True)\n",
    "train_df[['embarked', 'survived']].groupby(['embarked']).mean()"
   ]
  },
  {
   "cell_type": "markdown",
   "id": "0ba4579a-892f-44d5-9005-4d7d4249d95c",
   "metadata": {},
   "source": [
    "# Initial Model Training & Evaluation"
   ]
  },
  {
   "cell_type": "markdown",
   "id": "095e9839-a732-4807-9b1e-86da07bdfd83",
   "metadata": {},
   "source": [
    "Select promising featurs."
   ]
  },
  {
   "cell_type": "code",
   "execution_count": 121,
   "id": "fba46209-4ed8-430a-a25e-392c9e1b2d7a",
   "metadata": {},
   "outputs": [
    {
     "data": {
      "text/html": [
       "<div>\n",
       "<style scoped>\n",
       "    .dataframe tbody tr th:only-of-type {\n",
       "        vertical-align: middle;\n",
       "    }\n",
       "\n",
       "    .dataframe tbody tr th {\n",
       "        vertical-align: top;\n",
       "    }\n",
       "\n",
       "    .dataframe thead th {\n",
       "        text-align: right;\n",
       "    }\n",
       "</style>\n",
       "<table border=\"1\" class=\"dataframe\">\n",
       "  <thead>\n",
       "    <tr style=\"text-align: right;\">\n",
       "      <th></th>\n",
       "      <th>pclass</th>\n",
       "      <th>sibsp</th>\n",
       "      <th>parch</th>\n",
       "      <th>age_scaled</th>\n",
       "      <th>fare_scaled</th>\n",
       "      <th>alone</th>\n",
       "      <th>sex_female</th>\n",
       "      <th>sex_male</th>\n",
       "      <th>embarked_C</th>\n",
       "      <th>embarked_Q</th>\n",
       "      <th>embarked_S</th>\n",
       "      <th>title_Master.</th>\n",
       "      <th>title_Miss.</th>\n",
       "      <th>title_Mr.</th>\n",
       "      <th>title_Mrs.</th>\n",
       "      <th>title_Rare</th>\n",
       "    </tr>\n",
       "  </thead>\n",
       "  <tbody>\n",
       "    <tr>\n",
       "      <th>0</th>\n",
       "      <td>3</td>\n",
       "      <td>1</td>\n",
       "      <td>0</td>\n",
       "      <td>0.271174</td>\n",
       "      <td>0.014151</td>\n",
       "      <td>False</td>\n",
       "      <td>False</td>\n",
       "      <td>True</td>\n",
       "      <td>False</td>\n",
       "      <td>False</td>\n",
       "      <td>True</td>\n",
       "      <td>False</td>\n",
       "      <td>False</td>\n",
       "      <td>True</td>\n",
       "      <td>False</td>\n",
       "      <td>False</td>\n",
       "    </tr>\n",
       "    <tr>\n",
       "      <th>1</th>\n",
       "      <td>1</td>\n",
       "      <td>1</td>\n",
       "      <td>0</td>\n",
       "      <td>0.472229</td>\n",
       "      <td>0.139136</td>\n",
       "      <td>False</td>\n",
       "      <td>True</td>\n",
       "      <td>False</td>\n",
       "      <td>True</td>\n",
       "      <td>False</td>\n",
       "      <td>False</td>\n",
       "      <td>False</td>\n",
       "      <td>False</td>\n",
       "      <td>False</td>\n",
       "      <td>True</td>\n",
       "      <td>False</td>\n",
       "    </tr>\n",
       "    <tr>\n",
       "      <th>2</th>\n",
       "      <td>3</td>\n",
       "      <td>0</td>\n",
       "      <td>0</td>\n",
       "      <td>0.321438</td>\n",
       "      <td>0.015469</td>\n",
       "      <td>True</td>\n",
       "      <td>True</td>\n",
       "      <td>False</td>\n",
       "      <td>False</td>\n",
       "      <td>False</td>\n",
       "      <td>True</td>\n",
       "      <td>False</td>\n",
       "      <td>True</td>\n",
       "      <td>False</td>\n",
       "      <td>False</td>\n",
       "      <td>False</td>\n",
       "    </tr>\n",
       "    <tr>\n",
       "      <th>3</th>\n",
       "      <td>1</td>\n",
       "      <td>1</td>\n",
       "      <td>0</td>\n",
       "      <td>0.434531</td>\n",
       "      <td>0.103644</td>\n",
       "      <td>False</td>\n",
       "      <td>True</td>\n",
       "      <td>False</td>\n",
       "      <td>False</td>\n",
       "      <td>False</td>\n",
       "      <td>True</td>\n",
       "      <td>False</td>\n",
       "      <td>False</td>\n",
       "      <td>False</td>\n",
       "      <td>True</td>\n",
       "      <td>False</td>\n",
       "    </tr>\n",
       "    <tr>\n",
       "      <th>4</th>\n",
       "      <td>3</td>\n",
       "      <td>0</td>\n",
       "      <td>0</td>\n",
       "      <td>0.434531</td>\n",
       "      <td>0.015713</td>\n",
       "      <td>True</td>\n",
       "      <td>False</td>\n",
       "      <td>True</td>\n",
       "      <td>False</td>\n",
       "      <td>False</td>\n",
       "      <td>True</td>\n",
       "      <td>False</td>\n",
       "      <td>False</td>\n",
       "      <td>True</td>\n",
       "      <td>False</td>\n",
       "      <td>False</td>\n",
       "    </tr>\n",
       "  </tbody>\n",
       "</table>\n",
       "</div>"
      ],
      "text/plain": [
       "   pclass  sibsp  parch  age_scaled  fare_scaled  alone  sex_female  sex_male  \\\n",
       "0       3      1      0    0.271174     0.014151  False       False      True   \n",
       "1       1      1      0    0.472229     0.139136  False        True     False   \n",
       "2       3      0      0    0.321438     0.015469   True        True     False   \n",
       "3       1      1      0    0.434531     0.103644  False        True     False   \n",
       "4       3      0      0    0.434531     0.015713   True       False      True   \n",
       "\n",
       "   embarked_C  embarked_Q  embarked_S  title_Master.  title_Miss.  title_Mr.  \\\n",
       "0       False       False        True          False        False       True   \n",
       "1        True       False       False          False        False      False   \n",
       "2       False       False        True          False         True      False   \n",
       "3       False       False        True          False        False      False   \n",
       "4       False       False        True          False        False       True   \n",
       "\n",
       "   title_Mrs.  title_Rare  \n",
       "0       False       False  \n",
       "1        True       False  \n",
       "2       False       False  \n",
       "3        True       False  \n",
       "4       False       False  "
      ]
     },
     "execution_count": 121,
     "metadata": {},
     "output_type": "execute_result"
    }
   ],
   "source": [
    "features = ['pclass', 'sex', 'sibsp', 'parch', 'embarked', 'title', 'age_scaled', 'fare_scaled', 'alone']\n",
    "X_train = pd.get_dummies(train_df[features])\n",
    "X_train.head()"
   ]
  },
  {
   "cell_type": "markdown",
   "id": "0ab4e00b-3f12-407a-aa65-0c05af660991",
   "metadata": {},
   "source": [
    "We automate much of this process, we'll be looking at the 3 most promising models."
   ]
  },
  {
   "cell_type": "code",
   "execution_count": 122,
   "id": "17dc6346-2e7a-44a6-9079-e3606e606444",
   "metadata": {},
   "outputs": [
    {
     "data": {
      "image/png": "[encoded data removed]",
      "text/plain": [
       "<Figure size 640x480 with 1 Axes>"
      ]
     },
     "metadata": {},
     "output_type": "display_data"
    }
   ],
   "source": [
    "# function to evaluate models\n",
    "def validate_estimators(models):\n",
    "    results = {}\n",
    "    for model in models:\n",
    "        results[model.__class__.__name__] = cross_val_score(model, X_train, y_train, cv=5, scoring='accuracy').mean()\n",
    "\n",
    "    return results\n",
    "\n",
    "# models to evaluate\n",
    "models = [RandomForestClassifier(),\n",
    "         SVC(),\n",
    "         LogisticRegression(),\n",
    "         KNeighborsClassifier(),\n",
    "         DecisionTreeClassifier(),\n",
    "         GaussianNB(),\n",
    "         MLPClassifier(),\n",
    "         AdaBoostClassifier()]\n",
    "\n",
    "# get results\n",
    "results = validate_estimators(models)\n",
    "results = pd.Series(results).sort_values(ascending=False)\n",
    "\n",
    "# plot results\n",
    "plt.title('Accuracy Scores');\n",
    "plt.ylabel('Models');\n",
    "plt.xlabel('Mean Accuracy');\n",
    "sns.barplot(results, orient='h', color='red');"
   ]
  },
  {
   "cell_type": "markdown",
   "id": "56b3bd7f-542f-4a9a-8014-c97327c951fc",
   "metadata": {},
   "source": [
    "The `SVC`, `MLPClassifier` and the `LogisticRegression` models were our top performers. Next, we'll optimize them."
   ]
  },
  {
   "cell_type": "markdown",
   "id": "e0411a71-2f88-4532-b692-0650d6d2fc59",
   "metadata": {},
   "source": [
    "# Optimize selection"
   ]
  },
  {
   "cell_type": "code",
   "execution_count": 165,
   "id": "98d881a3-a7a7-443b-aa91-e15b21b3329a",
   "metadata": {},
   "outputs": [],
   "source": [
    "svc_clf = SVC()\n",
    "mlp_clf = MLPClassifier()\n",
    "lr_clf = LogisticRegression()\n",
    "\n",
    "# parameter grids\n",
    "svc_grid = {\n",
    "    'C': [0.1, 1, 10],            \n",
    "    'kernel': ['linear', 'rbf'], \n",
    "    'gamma': [0.01, 0.1, 1]\n",
    "}\n",
    "\n",
    "mlp_grid = {\n",
    "    'hidden_layer_sizes': [(50,), (100,), (50, 50)],  \n",
    "    'activation': ['relu', 'tanh'], \n",
    "    'solver': ['adam', 'sgd'], \n",
    "    'alpha': [0.0001, 0.001, 0.01], \n",
    "    'learning_rate': ['constant', 'adaptive'],\n",
    "}\n",
    "\n",
    "lr_grid = {\n",
    "    'C': [0.001, 0.01, 0.1, 1, 10], \n",
    "    'penalty': ['l1', 'l2'],\n",
    "}"
   ]
  },
  {
   "cell_type": "code",
   "execution_count": 166,
   "id": "456cf660-76bb-4abd-b3ad-39cdbe82aa92",
   "metadata": {},
   "outputs": [
    {
     "data": {
      "text/html": [
       "<style>#sk-container-id-4 {color: black;}#sk-container-id-4 pre{padding: 0;}#sk-container-id-4 div.sk-toggleable {background-color: white;}#sk-container-id-4 label.sk-toggleable__label {cursor: pointer;display: block;width: 100%;margin-bottom: 0;padding: 0.3em;box-sizing: border-box;text-align: center;}#sk-container-id-4 label.sk-toggleable__label-arrow:before {content: \"▸\";float: left;margin-right: 0.25em;color: #696969;}#sk-container-id-4 label.sk-toggleable__label-arrow:hover:before {color: black;}#sk-container-id-4 div.sk-estimator:hover label.sk-toggleable__label-arrow:before {color: black;}#sk-container-id-4 div.sk-toggleable__content {max-height: 0;max-width: 0;overflow: hidden;text-align: left;background-color: #f0f8ff;}#sk-container-id-4 div.sk-toggleable__content pre {margin: 0.2em;color: black;border-radius: 0.25em;background-color: #f0f8ff;}#sk-container-id-4 input.sk-toggleable__control:checked~div.sk-toggleable__content {max-height: 200px;max-width: 100%;overflow: auto;}#sk-container-id-4 input.sk-toggleable__control:checked~label.sk-toggleable__label-arrow:before {content: \"▾\";}#sk-container-id-4 div.sk-estimator input.sk-toggleable__control:checked~label.sk-toggleable__label {background-color: #d4ebff;}#sk-container-id-4 div.sk-label input.sk-toggleable__control:checked~label.sk-toggleable__label {background-color: #d4ebff;}#sk-container-id-4 input.sk-hidden--visually {border: 0;clip: rect(1px 1px 1px 1px);clip: rect(1px, 1px, 1px, 1px);height: 1px;margin: -1px;overflow: hidden;padding: 0;position: absolute;width: 1px;}#sk-container-id-4 div.sk-estimator {font-family: monospace;background-color: #f0f8ff;border: 1px dotted black;border-radius: 0.25em;box-sizing: border-box;margin-bottom: 0.5em;}#sk-container-id-4 div.sk-estimator:hover {background-color: #d4ebff;}#sk-container-id-4 div.sk-parallel-item::after {content: \"\";width: 100%;border-bottom: 1px solid gray;flex-grow: 1;}#sk-container-id-4 div.sk-label:hover label.sk-toggleable__label {background-color: #d4ebff;}#sk-container-id-4 div.sk-serial::before {content: \"\";position: absolute;border-left: 1px solid gray;box-sizing: border-box;top: 0;bottom: 0;left: 50%;z-index: 0;}#sk-container-id-4 div.sk-serial {display: flex;flex-direction: column;align-items: center;background-color: white;padding-right: 0.2em;padding-left: 0.2em;position: relative;}#sk-container-id-4 div.sk-item {position: relative;z-index: 1;}#sk-container-id-4 div.sk-parallel {display: flex;align-items: stretch;justify-content: center;background-color: white;position: relative;}#sk-container-id-4 div.sk-item::before, #sk-container-id-4 div.sk-parallel-item::before {content: \"\";position: absolute;border-left: 1px solid gray;box-sizing: border-box;top: 0;bottom: 0;left: 50%;z-index: -1;}#sk-container-id-4 div.sk-parallel-item {display: flex;flex-direction: column;z-index: 1;position: relative;background-color: white;}#sk-container-id-4 div.sk-parallel-item:first-child::after {align-self: flex-end;width: 50%;}#sk-container-id-4 div.sk-parallel-item:last-child::after {align-self: flex-start;width: 50%;}#sk-container-id-4 div.sk-parallel-item:only-child::after {width: 0;}#sk-container-id-4 div.sk-dashed-wrapped {border: 1px dashed gray;margin: 0 0.4em 0.5em 0.4em;box-sizing: border-box;padding-bottom: 0.4em;background-color: white;}#sk-container-id-4 div.sk-label label {font-family: monospace;font-weight: bold;display: inline-block;line-height: 1.2em;}#sk-container-id-4 div.sk-label-container {text-align: center;}#sk-container-id-4 div.sk-container {/* jupyter's `normalize.less` sets `[hidden] { display: none; }` but bootstrap.min.css set `[hidden] { display: none !important; }` so we also need the `!important` here to be able to override the default hidden behavior on the sphinx rendered scikit-learn.org. See: https://github.com/scikit-learn/scikit-learn/issues/21755 */display: inline-block !important;position: relative;}#sk-container-id-4 div.sk-text-repr-fallback {display: none;}</style><div id=\"sk-container-id-4\" class=\"sk-top-container\"><div class=\"sk-text-repr-fallback\"><pre>GridSearchCV(cv=5, estimator=LogisticRegression(),\n",
       "             param_grid={&#x27;C&#x27;: [0.001, 0.01, 0.1, 1, 10],\n",
       "                         &#x27;penalty&#x27;: [&#x27;l1&#x27;, &#x27;l2&#x27;]},\n",
       "             scoring=&#x27;accuracy&#x27;)</pre><b>In a Jupyter environment, please rerun this cell to show the HTML representation or trust the notebook. <br />On GitHub, the HTML representation is unable to render, please try loading this page with nbviewer.org.</b></div><div class=\"sk-container\" hidden><div class=\"sk-item sk-dashed-wrapped\"><div class=\"sk-label-container\"><div class=\"sk-label sk-toggleable\"><input class=\"sk-toggleable__control sk-hidden--visually\" id=\"sk-estimator-id-8\" type=\"checkbox\" ><label for=\"sk-estimator-id-8\" class=\"sk-toggleable__label sk-toggleable__label-arrow\">GridSearchCV</label><div class=\"sk-toggleable__content\"><pre>GridSearchCV(cv=5, estimator=LogisticRegression(),\n",
       "             param_grid={&#x27;C&#x27;: [0.001, 0.01, 0.1, 1, 10],\n",
       "                         &#x27;penalty&#x27;: [&#x27;l1&#x27;, &#x27;l2&#x27;]},\n",
       "             scoring=&#x27;accuracy&#x27;)</pre></div></div></div><div class=\"sk-parallel\"><div class=\"sk-parallel-item\"><div class=\"sk-item\"><div class=\"sk-label-container\"><div class=\"sk-label sk-toggleable\"><input class=\"sk-toggleable__control sk-hidden--visually\" id=\"sk-estimator-id-9\" type=\"checkbox\" ><label for=\"sk-estimator-id-9\" class=\"sk-toggleable__label sk-toggleable__label-arrow\">estimator: LogisticRegression</label><div class=\"sk-toggleable__content\"><pre>LogisticRegression()</pre></div></div></div><div class=\"sk-serial\"><div class=\"sk-item\"><div class=\"sk-estimator sk-toggleable\"><input class=\"sk-toggleable__control sk-hidden--visually\" id=\"sk-estimator-id-10\" type=\"checkbox\" ><label for=\"sk-estimator-id-10\" class=\"sk-toggleable__label sk-toggleable__label-arrow\">LogisticRegression</label><div class=\"sk-toggleable__content\"><pre>LogisticRegression()</pre></div></div></div></div></div></div></div></div></div></div>"
      ],
      "text/plain": [
       "GridSearchCV(cv=5, estimator=LogisticRegression(),\n",
       "             param_grid={'C': [0.001, 0.01, 0.1, 1, 10],\n",
       "                         'penalty': ['l1', 'l2']},\n",
       "             scoring='accuracy')"
      ]
     },
     "execution_count": 166,
     "metadata": {},
     "output_type": "execute_result"
    }
   ],
   "source": [
    "svc_search = GridSearchCV(svc_clf, svc_grid, scoring='accuracy', cv=5)\n",
    "mlp_search = GridSearchCV(mlp_clf, mlp_grid, scoring='accuracy', cv=5)\n",
    "lr_search = GridSearchCV(lr_clf, lr_grid, scoring='accuracy', cv=5)\n",
    "\n",
    "svc_search.fit(X_train, y_train)\n",
    "mlp_search.fit(X_train, y_train)\n",
    "lr_search.fit(X_train, y_train)"
   ]
  },
  {
   "cell_type": "code",
   "execution_count": 168,
   "id": "07527b1f-0a06-42e3-8af6-91dd2347877a",
   "metadata": {},
   "outputs": [
    {
     "data": {
      "text/plain": [
       "(0.8349946644906158, 0.8282844768062269, 0.8215554579122465)"
      ]
     },
     "execution_count": 168,
     "metadata": {},
     "output_type": "execute_result"
    }
   ],
   "source": [
    "svc_search.best_score_, mlp_search.best_score_, lr_search.best_score_"
   ]
  },
  {
   "cell_type": "markdown",
   "id": "48d3f2e8-e481-48ff-a31f-2e9068770faa",
   "metadata": {},
   "source": [
    "# Test"
   ]
  },
  {
   "cell_type": "markdown",
   "id": "387cd17f-53dc-4c15-b832-3beb9d932ef0",
   "metadata": {},
   "source": [
    "<b>Obtain test data with selected features.\n",
    "</b>"
   ]
  },
  {
   "cell_type": "code",
   "execution_count": 154,
   "id": "66da6226-4efc-4fe8-9ce2-7487a8b2ebe1",
   "metadata": {},
   "outputs": [],
   "source": [
    "X_test = pd.get_dummies(test_df[features])"
   ]
  },
  {
   "cell_type": "markdown",
   "id": "ade17752-aa66-422a-ba9a-a5dc9825ec30",
   "metadata": {},
   "source": [
    "<b>Get predictions using our fitted model</b>"
   ]
  },
  {
   "cell_type": "code",
   "execution_count": 169,
   "id": "cc935f8a-d8ac-4d72-b43f-4af757a35004",
   "metadata": {},
   "outputs": [],
   "source": [
    "svc_opt = grid_search.best_estimator_\n",
    "svc_opt.fit(X_train, y_train)\n",
    "y_pred = svc_opt.predict(X_test)"
   ]
  },
  {
   "cell_type": "code",
   "execution_count": 170,
   "id": "f123b60d-45ca-4734-adb6-765d01f14f50",
   "metadata": {},
   "outputs": [
    {
     "name": "stdout",
     "output_type": "stream",
     "text": [
      "The accuracy of the final model on the test data is: 0.7799043062200957\n"
     ]
    }
   ],
   "source": [
    "accuracy = accuracy_score(y_test, y_pred)\n",
    "print(f\"The accuracy of the final model on the test data is: {accuracy:}\")"
   ]
  },
  {
   "cell_type": "code",
   "execution_count": null,
   "id": "68d30872-4be5-41f4-99a2-5df621625efd",
   "metadata": {},
   "outputs": [],
   "source": []
  }
 ],
 "metadata": {
  "kernelspec": {
   "display_name": "Python 3 (ipykernel)",
   "language": "python",
   "name": "python3"
  },
  "language_info": {
   "codemirror_mode": {
    "name": "ipython",
    "version": 3
   },
   "file_extension": ".py",
   "mimetype": "text/x-python",
   "name": "python",
   "nbconvert_exporter": "python",
   "pygments_lexer": "ipython3",
   "version": "3.12.0"
  }
 },
 "nbformat": 4,
 "nbformat_minor": 5
}
