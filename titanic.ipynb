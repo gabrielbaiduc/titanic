{
 "cells": [
  {
   "cell_type": "markdown",
   "id": "45e1496b-7d01-4a38-a04f-87a9371954d0",
   "metadata": {},
   "source": [
    "# Imports"
   ]
  },
  {
   "cell_type": "code",
   "execution_count": 1,
   "id": "2d6befbd-56dc-4578-b05a-8a69807a6e60",
   "metadata": {},
   "outputs": [],
   "source": [
    "# data wrangling\n",
    "import pandas as pd\n",
    "import numpy as np\n",
    "import re\n",
    "from scipy.stats import norm\n",
    "from scipy.stats import beta\n",
    "from scipy.optimize import minimize\n",
    "\n",
    "# plotting\n",
    "import seaborn as sns\n",
    "import matplotlib as mpl\n",
    "import matplotlib.pyplot as plt\n",
    "\n",
    "# to ingore pandas warnings\n",
    "import warnings\n",
    "\n",
    "# import models\n",
    "from sklearn.linear_model import LogisticRegression\n",
    "from sklearn.tree import DecisionTreeClassifier\n",
    "from sklearn.ensemble import RandomForestClassifier\n",
    "from sklearn.svm import SVC\n",
    "from sklearn.naive_bayes import GaussianNB\n",
    "from sklearn.neighbors import KNeighborsClassifier\n",
    "from sklearn.neural_network import MLPClassifier\n",
    "from sklearn.ensemble import AdaBoostClassifier\n",
    "\n",
    "# metrics\n",
    "from sklearn.metrics import accuracy_score\n",
    "\n",
    "# optimizer\n",
    "from sklearn.model_selection import GridSearchCV\n",
    "\n",
    "# k-fold cross-validation\n",
    "from sklearn.model_selection import cross_val_score\n",
    "\n",
    "# chi-squared\n",
    "from scipy.stats import chi2_contingency\n",
    "\n",
    "# ANOVA\n",
    "import statsmodels.api as sm"
   ]
  },
  {
   "cell_type": "code",
   "execution_count": null,
   "id": "49522adf-462c-4b2d-9675-1017102bb5a1",
   "metadata": {},
   "outputs": [],
   "source": []
  },
  {
   "cell_type": "markdown",
   "id": "93ec8715-3c0d-4e11-8faa-31eb52c81938",
   "metadata": {
    "jp-MarkdownHeadingCollapsed": true
   },
   "source": [
    "# Functions"
   ]
  },
  {
   "cell_type": "markdown",
   "id": "cd4eac53-3142-42f6-9ac8-829cc5083473",
   "metadata": {},
   "source": [
    "<b> Functions for training and evaluating models </b>"
   ]
  },
  {
   "cell_type": "code",
   "execution_count": 2,
   "id": "6cd988f6-a04d-4384-90db-74c5e45fd22d",
   "metadata": {},
   "outputs": [],
   "source": [
    "# this function takes a model and returns the fitted model\n",
    "def train_model(model):\n",
    "    model.fit(X_train, y_train)\n",
    "    return model"
   ]
  },
  {
   "cell_type": "code",
   "execution_count": 3,
   "id": "a3850443-1079-4cd6-a419-f2e23f5dfe02",
   "metadata": {},
   "outputs": [],
   "source": [
    "# this function takes a fitted model and the models' name as an argument and returns a dictionary of accuracy scores \n",
    "# and the mean and std. dev. of a 10-fold cross-validation.\n",
    "def evaluate_model(fitted_model, name):\n",
    "    # accuracy on training data\n",
    "    y_pred = fitted_model.predict(X_train)\n",
    "    accuracy = accuracy_score(y_train, y_pred)\n",
    "    # accuracy on k-fold cross-validation\n",
    "    cv_accuracy = cross_val_score(fitted_model, X_train, y_train, scoring=\"accuracy\", cv=10)\n",
    "\n",
    "    # create a series from the scores\n",
    "    scores = [accuracy, cv_accuracy.mean(), cv_accuracy.std(), accuracy-cv_accuracy.mean()]\n",
    "    i = [\"Accuracy\", \"Mean Acc.\", \"Std. Dev.\", \"Fitting\"]\n",
    "    col = pd.Series(scores, index=i, name=name)\n",
    "    return col"
   ]
  },
  {
   "cell_type": "code",
   "execution_count": 54,
   "id": "03226f67-c78a-4dda-b702-24b5989f04ee",
   "metadata": {},
   "outputs": [],
   "source": [
    "# this function takes a list of models and model names, then iteratively trains and evaluates the models\n",
    "# lastly, the model returns a table with the scores from the evaluation.\n",
    "\n",
    "def train_models(models, model_names):\n",
    "    \n",
    "    # create a dataframe to store the results of the evaluation in, name the values to be stored.\n",
    "    results = pd.DataFrame()\n",
    "    results.index = [\"Accuracy\", \"Mean Acc.\", \"Std. Dev.\", \"Fitting\"]\n",
    "    \n",
    "    # iteratively train the specified models and create a results table from the validation\n",
    "    for model, name in zip(models, model_names):\n",
    "        \n",
    "        # train model\n",
    "        fitted_model = train_model(model)\n",
    "        \n",
    "        # evaluate model\n",
    "        scores = evaluate_model(fitted_model, name)\n",
    "\n",
    "        # create score table\n",
    "        results[name] = scores\n",
    "\n",
    "    # return the scores table by ascending Mean Accuracy values\n",
    "    return results.transpose().sort_values('Mean Acc.', ascending=False)"
   ]
  },
  {
   "cell_type": "markdown",
   "id": "89c34502-9835-4b02-94e6-f8bb2e57506f",
   "metadata": {
    "jp-MarkdownHeadingCollapsed": true
   },
   "source": [
    "# Initial data wrangling"
   ]
  },
  {
   "cell_type": "markdown",
   "id": "38aaed4c-9271-46fa-ae60-c45edade7606",
   "metadata": {},
   "source": [
    "<b>Load data to data-frames</b>"
   ]
  },
  {
   "cell_type": "code",
   "execution_count": 5,
   "id": "e644cf81-c73f-402f-9b06-bca29dda1cbf",
   "metadata": {},
   "outputs": [],
   "source": [
    "train_df = pd.read_csv(\"train.csv\")\n",
    "test_df = pd.read_csv(\"test.csv\")\n",
    "full_df = pd.read_csv(\"titanic.csv\")"
   ]
  },
  {
   "cell_type": "markdown",
   "id": "6c160275-800c-4469-8d69-9d6007e58864",
   "metadata": {},
   "source": [
    "<b>Ignore pandas warnings</b>"
   ]
  },
  {
   "cell_type": "code",
   "execution_count": 6,
   "id": "d68c932f-ed21-4f78-b8e6-6fa01fbf05c8",
   "metadata": {},
   "outputs": [],
   "source": [
    "warnings.filterwarnings('ignore')"
   ]
  },
  {
   "cell_type": "markdown",
   "id": "160edc85-c029-4d69-a082-488ca32660d5",
   "metadata": {},
   "source": [
    "<b>Set column names to lowercase in the test and training data</b>"
   ]
  },
  {
   "cell_type": "code",
   "execution_count": 7,
   "id": "ee1ed3ac-478a-44f3-a578-7099e0879c03",
   "metadata": {},
   "outputs": [],
   "source": [
    "# set columns names to lower-case in the test and train dataframes\n",
    "test_df.columns = [column.lower() for column in test_df.columns]\n",
    "train_df.columns = [column.lower() for column in train_df.columns]"
   ]
  },
  {
   "cell_type": "markdown",
   "id": "ca0d742a-9b72-4d67-b57c-ad98e2400a86",
   "metadata": {},
   "source": [
    "<b>Remove unnecessary quotation marks from the names</b>"
   ]
  },
  {
   "cell_type": "code",
   "execution_count": 8,
   "id": "1ff4b00d-3a39-4296-9ec6-6d17e527de37",
   "metadata": {},
   "outputs": [],
   "source": [
    "for i, name in enumerate(train_df[\"name\"]):\n",
    "    if '\"' in name:\n",
    "        train_df[\"name\"][i] = re.sub('\"', '', name)\n",
    "\n",
    "for i, name in enumerate(test_df[\"name\"]):\n",
    "    if '\"' in name:\n",
    "        test_df[\"name\"][i] = re.sub('\"', '', name)\n",
    "\n",
    "for i, name in enumerate(full_df[\"name\"]):\n",
    "    if '\"' in name:\n",
    "        full_df[\"name\"][i] = re.sub('\"', '', name)"
   ]
  },
  {
   "cell_type": "markdown",
   "id": "b8679109-2d93-483d-bf1d-6a744e50017b",
   "metadata": {},
   "source": [
    "<b>Remove unwanted features from the full data and the train data </b>"
   ]
  },
  {
   "cell_type": "code",
   "execution_count": 9,
   "id": "553defb1-6c96-4df1-bff2-c9251c6fa6c5",
   "metadata": {
    "scrolled": true
   },
   "outputs": [],
   "source": [
    "full_df = full_df.drop(columns=[\"boat\", \"body\", \"home.dest\", 'ticket', 'cabin'])\n",
    "train_df = train_df.drop(columns=[\"passengerid\", 'ticket', 'cabin'])"
   ]
  },
  {
   "cell_type": "markdown",
   "id": "8ddc423b-922f-4554-aabc-7b9bef5f608b",
   "metadata": {},
   "source": [
    "<b>Add the <i>survived</i> feature to the test data</b>"
   ]
  },
  {
   "cell_type": "code",
   "execution_count": 10,
   "id": "08abdf3d-212d-4fb2-b423-585dab9fc5a7",
   "metadata": {
    "scrolled": true
   },
   "outputs": [],
   "source": [
    "test_with_labels = pd.merge(test_df, full_df, how='left')"
   ]
  },
  {
   "cell_type": "markdown",
   "id": "0999aad0-4cca-492e-8015-33442608fdce",
   "metadata": {},
   "source": [
    "<b> Change the order of the columns on the test data to match the training data</b>"
   ]
  },
  {
   "cell_type": "code",
   "execution_count": 11,
   "id": "c35c4f06-76ce-4de4-a3a8-71bba469f0d9",
   "metadata": {},
   "outputs": [],
   "source": [
    "test_df = test_with_labels[list(train_df.columns)]"
   ]
  },
  {
   "cell_type": "markdown",
   "id": "397b9007-b6a9-42e6-81ae-2f1cc90c0f23",
   "metadata": {},
   "source": [
    "<b> Finally, inspect the training and test data.</b>"
   ]
  },
  {
   "cell_type": "code",
   "execution_count": 12,
   "id": "9cc1db45-f687-4bcd-9b7c-514780c85fb2",
   "metadata": {},
   "outputs": [
    {
     "data": {
      "text/html": [
       "<div>\n",
       "<style scoped>\n",
       "    .dataframe tbody tr th:only-of-type {\n",
       "        vertical-align: middle;\n",
       "    }\n",
       "\n",
       "    .dataframe tbody tr th {\n",
       "        vertical-align: top;\n",
       "    }\n",
       "\n",
       "    .dataframe thead th {\n",
       "        text-align: right;\n",
       "    }\n",
       "</style>\n",
       "<table border=\"1\" class=\"dataframe\">\n",
       "  <thead>\n",
       "    <tr style=\"text-align: right;\">\n",
       "      <th></th>\n",
       "      <th>survived</th>\n",
       "      <th>pclass</th>\n",
       "      <th>name</th>\n",
       "      <th>sex</th>\n",
       "      <th>age</th>\n",
       "      <th>sibsp</th>\n",
       "      <th>parch</th>\n",
       "      <th>fare</th>\n",
       "      <th>embarked</th>\n",
       "    </tr>\n",
       "  </thead>\n",
       "  <tbody>\n",
       "    <tr>\n",
       "      <th>0</th>\n",
       "      <td>0</td>\n",
       "      <td>3</td>\n",
       "      <td>Braund, Mr. Owen Harris</td>\n",
       "      <td>male</td>\n",
       "      <td>22.0</td>\n",
       "      <td>1</td>\n",
       "      <td>0</td>\n",
       "      <td>7.2500</td>\n",
       "      <td>S</td>\n",
       "    </tr>\n",
       "    <tr>\n",
       "      <th>1</th>\n",
       "      <td>1</td>\n",
       "      <td>1</td>\n",
       "      <td>Cumings, Mrs. John Bradley (Florence Briggs Th...</td>\n",
       "      <td>female</td>\n",
       "      <td>38.0</td>\n",
       "      <td>1</td>\n",
       "      <td>0</td>\n",
       "      <td>71.2833</td>\n",
       "      <td>C</td>\n",
       "    </tr>\n",
       "    <tr>\n",
       "      <th>2</th>\n",
       "      <td>1</td>\n",
       "      <td>3</td>\n",
       "      <td>Heikkinen, Miss. Laina</td>\n",
       "      <td>female</td>\n",
       "      <td>26.0</td>\n",
       "      <td>0</td>\n",
       "      <td>0</td>\n",
       "      <td>7.9250</td>\n",
       "      <td>S</td>\n",
       "    </tr>\n",
       "    <tr>\n",
       "      <th>3</th>\n",
       "      <td>1</td>\n",
       "      <td>1</td>\n",
       "      <td>Futrelle, Mrs. Jacques Heath (Lily May Peel)</td>\n",
       "      <td>female</td>\n",
       "      <td>35.0</td>\n",
       "      <td>1</td>\n",
       "      <td>0</td>\n",
       "      <td>53.1000</td>\n",
       "      <td>S</td>\n",
       "    </tr>\n",
       "    <tr>\n",
       "      <th>4</th>\n",
       "      <td>0</td>\n",
       "      <td>3</td>\n",
       "      <td>Allen, Mr. William Henry</td>\n",
       "      <td>male</td>\n",
       "      <td>35.0</td>\n",
       "      <td>0</td>\n",
       "      <td>0</td>\n",
       "      <td>8.0500</td>\n",
       "      <td>S</td>\n",
       "    </tr>\n",
       "  </tbody>\n",
       "</table>\n",
       "</div>"
      ],
      "text/plain": [
       "   survived  pclass                                               name  \\\n",
       "0         0       3                            Braund, Mr. Owen Harris   \n",
       "1         1       1  Cumings, Mrs. John Bradley (Florence Briggs Th...   \n",
       "2         1       3                             Heikkinen, Miss. Laina   \n",
       "3         1       1       Futrelle, Mrs. Jacques Heath (Lily May Peel)   \n",
       "4         0       3                           Allen, Mr. William Henry   \n",
       "\n",
       "      sex   age  sibsp  parch     fare embarked  \n",
       "0    male  22.0      1      0   7.2500        S  \n",
       "1  female  38.0      1      0  71.2833        C  \n",
       "2  female  26.0      0      0   7.9250        S  \n",
       "3  female  35.0      1      0  53.1000        S  \n",
       "4    male  35.0      0      0   8.0500        S  "
      ]
     },
     "execution_count": 12,
     "metadata": {},
     "output_type": "execute_result"
    }
   ],
   "source": [
    "train_df.head()"
   ]
  },
  {
   "cell_type": "code",
   "execution_count": 13,
   "id": "89abfbaf-bcdd-4d89-8074-3af0cb715077",
   "metadata": {},
   "outputs": [
    {
     "data": {
      "text/html": [
       "<div>\n",
       "<style scoped>\n",
       "    .dataframe tbody tr th:only-of-type {\n",
       "        vertical-align: middle;\n",
       "    }\n",
       "\n",
       "    .dataframe tbody tr th {\n",
       "        vertical-align: top;\n",
       "    }\n",
       "\n",
       "    .dataframe thead th {\n",
       "        text-align: right;\n",
       "    }\n",
       "</style>\n",
       "<table border=\"1\" class=\"dataframe\">\n",
       "  <thead>\n",
       "    <tr style=\"text-align: right;\">\n",
       "      <th></th>\n",
       "      <th>survived</th>\n",
       "      <th>pclass</th>\n",
       "      <th>name</th>\n",
       "      <th>sex</th>\n",
       "      <th>age</th>\n",
       "      <th>sibsp</th>\n",
       "      <th>parch</th>\n",
       "      <th>fare</th>\n",
       "      <th>embarked</th>\n",
       "    </tr>\n",
       "  </thead>\n",
       "  <tbody>\n",
       "    <tr>\n",
       "      <th>0</th>\n",
       "      <td>0</td>\n",
       "      <td>3</td>\n",
       "      <td>Kelly, Mr. James</td>\n",
       "      <td>male</td>\n",
       "      <td>34.5</td>\n",
       "      <td>0</td>\n",
       "      <td>0</td>\n",
       "      <td>7.8292</td>\n",
       "      <td>Q</td>\n",
       "    </tr>\n",
       "    <tr>\n",
       "      <th>1</th>\n",
       "      <td>1</td>\n",
       "      <td>3</td>\n",
       "      <td>Wilkes, Mrs. James (Ellen Needs)</td>\n",
       "      <td>female</td>\n",
       "      <td>47.0</td>\n",
       "      <td>1</td>\n",
       "      <td>0</td>\n",
       "      <td>7.0000</td>\n",
       "      <td>S</td>\n",
       "    </tr>\n",
       "    <tr>\n",
       "      <th>2</th>\n",
       "      <td>0</td>\n",
       "      <td>2</td>\n",
       "      <td>Myles, Mr. Thomas Francis</td>\n",
       "      <td>male</td>\n",
       "      <td>62.0</td>\n",
       "      <td>0</td>\n",
       "      <td>0</td>\n",
       "      <td>9.6875</td>\n",
       "      <td>Q</td>\n",
       "    </tr>\n",
       "    <tr>\n",
       "      <th>3</th>\n",
       "      <td>0</td>\n",
       "      <td>3</td>\n",
       "      <td>Wirz, Mr. Albert</td>\n",
       "      <td>male</td>\n",
       "      <td>27.0</td>\n",
       "      <td>0</td>\n",
       "      <td>0</td>\n",
       "      <td>8.6625</td>\n",
       "      <td>S</td>\n",
       "    </tr>\n",
       "    <tr>\n",
       "      <th>4</th>\n",
       "      <td>1</td>\n",
       "      <td>3</td>\n",
       "      <td>Hirvonen, Mrs. Alexander (Helga E Lindqvist)</td>\n",
       "      <td>female</td>\n",
       "      <td>22.0</td>\n",
       "      <td>1</td>\n",
       "      <td>1</td>\n",
       "      <td>12.2875</td>\n",
       "      <td>S</td>\n",
       "    </tr>\n",
       "  </tbody>\n",
       "</table>\n",
       "</div>"
      ],
      "text/plain": [
       "   survived  pclass                                          name     sex  \\\n",
       "0         0       3                              Kelly, Mr. James    male   \n",
       "1         1       3              Wilkes, Mrs. James (Ellen Needs)  female   \n",
       "2         0       2                     Myles, Mr. Thomas Francis    male   \n",
       "3         0       3                              Wirz, Mr. Albert    male   \n",
       "4         1       3  Hirvonen, Mrs. Alexander (Helga E Lindqvist)  female   \n",
       "\n",
       "    age  sibsp  parch     fare embarked  \n",
       "0  34.5      0      0   7.8292        Q  \n",
       "1  47.0      1      0   7.0000        S  \n",
       "2  62.0      0      0   9.6875        Q  \n",
       "3  27.0      0      0   8.6625        S  \n",
       "4  22.0      1      1  12.2875        S  "
      ]
     },
     "execution_count": 13,
     "metadata": {},
     "output_type": "execute_result"
    }
   ],
   "source": [
    "test_df.head()"
   ]
  },
  {
   "cell_type": "code",
   "execution_count": 14,
   "id": "fc35f1f5-8b74-41a2-aa4a-c58bbbbfd333",
   "metadata": {},
   "outputs": [
    {
     "name": "stdout",
     "output_type": "stream",
     "text": [
      "<class 'pandas.core.frame.DataFrame'>\n",
      "RangeIndex: 891 entries, 0 to 890\n",
      "Data columns (total 9 columns):\n",
      " #   Column    Non-Null Count  Dtype  \n",
      "---  ------    --------------  -----  \n",
      " 0   survived  891 non-null    int64  \n",
      " 1   pclass    891 non-null    int64  \n",
      " 2   name      891 non-null    object \n",
      " 3   sex       891 non-null    object \n",
      " 4   age       714 non-null    float64\n",
      " 5   sibsp     891 non-null    int64  \n",
      " 6   parch     891 non-null    int64  \n",
      " 7   fare      891 non-null    float64\n",
      " 8   embarked  889 non-null    object \n",
      "dtypes: float64(2), int64(4), object(3)\n",
      "memory usage: 62.8+ KB\n",
      "<class 'pandas.core.frame.DataFrame'>\n",
      "RangeIndex: 418 entries, 0 to 417\n",
      "Data columns (total 9 columns):\n",
      " #   Column    Non-Null Count  Dtype  \n",
      "---  ------    --------------  -----  \n",
      " 0   survived  418 non-null    int64  \n",
      " 1   pclass    418 non-null    int64  \n",
      " 2   name      418 non-null    object \n",
      " 3   sex       418 non-null    object \n",
      " 4   age       332 non-null    float64\n",
      " 5   sibsp     418 non-null    int64  \n",
      " 6   parch     418 non-null    int64  \n",
      " 7   fare      417 non-null    float64\n",
      " 8   embarked  418 non-null    object \n",
      "dtypes: float64(2), int64(4), object(3)\n",
      "memory usage: 29.5+ KB\n"
     ]
    },
    {
     "data": {
      "text/plain": [
       "(None, None)"
      ]
     },
     "execution_count": 14,
     "metadata": {},
     "output_type": "execute_result"
    }
   ],
   "source": [
    "train_df.info(), test_df.info()"
   ]
  },
  {
   "cell_type": "markdown",
   "id": "46ef45e5-1de8-41a4-9190-da67de22e9b6",
   "metadata": {},
   "source": [
    "# Explore Data"
   ]
  },
  {
   "cell_type": "markdown",
   "id": "d271a5b2-98c7-4b0b-bf75-b6fd6f13caeb",
   "metadata": {
    "jp-MarkdownHeadingCollapsed": true
   },
   "source": [
    "### 'sex'"
   ]
  },
  {
   "cell_type": "markdown",
   "id": "6090bb6d-865e-491f-95da-412a16832b5b",
   "metadata": {},
   "source": [
    "<b> Histogram shows a clear relationship between 'sex' and 'survived'.\n",
    "\n",
    "<b> Include.\n",
    "\n",
    "</b>"
   ]
  },
  {
   "cell_type": "code",
   "execution_count": 15,
   "id": "7a88fa11-f2ba-428e-a7cc-a703ed65e743",
   "metadata": {},
   "outputs": [
    {
     "data": {
      "text/plain": [
       "<Axes: xlabel='sex', ylabel='Count'>"
      ]
     },
     "execution_count": 15,
     "metadata": {},
     "output_type": "execute_result"
    },
    {
     "data": {
      "image/png": "[encoded data removed]",
      "text/plain": [
       "<Figure size 640x480 with 1 Axes>"
      ]
     },
     "metadata": {},
     "output_type": "display_data"
    }
   ],
   "source": [
    "sns.histplot(train_df,\n",
    "            x='sex',\n",
    "            hue='survived',\n",
    "            multiple='stack')"
   ]
  },
  {
   "cell_type": "markdown",
   "id": "7ede8197-c4d4-4311-9ab5-722057b476d9",
   "metadata": {
    "jp-MarkdownHeadingCollapsed": true
   },
   "source": [
    "### 'age'"
   ]
  },
  {
   "cell_type": "markdown",
   "id": "7b4d3287-3d8b-4b66-9f74-c41009457d0a",
   "metadata": {},
   "source": [
    "<b> Age is a continuous variable, but has some missing values.\n",
    "\n",
    "</b>"
   ]
  },
  {
   "cell_type": "code",
   "execution_count": 16,
   "id": "64c5b632-101f-4c92-a8dc-eaa4bb1cc3a6",
   "metadata": {},
   "outputs": [
    {
     "data": {
      "text/plain": [
       "<Axes: xlabel='age', ylabel='Count'>"
      ]
     },
     "execution_count": 16,
     "metadata": {},
     "output_type": "execute_result"
    },
    {
     "data": {
      "image/png": "[encoded data removed]",
      "text/plain": [
       "<Figure size 640x480 with 1 Axes>"
      ]
     },
     "metadata": {},
     "output_type": "display_data"
    }
   ],
   "source": [
    "# histogram of 'age'\n",
    "sns.histplot(train_df, x='age')"
   ]
  },
  {
   "cell_type": "markdown",
   "id": "2fedad2c-e36c-4ce0-aa2f-4a1af3ef54ee",
   "metadata": {},
   "source": [
    "<b> Fill <i> age </i> with mean value.\n",
    "    \n",
    "<b>By filling age with the mean value we get a spike at the mean.\n",
    "\n",
    "<b>Nothing special, do not include.\n",
    "</b>"
   ]
  },
  {
   "cell_type": "code",
   "execution_count": 17,
   "id": "d9a3d10c-94aa-4e8c-9f19-5bdbf7d078e1",
   "metadata": {},
   "outputs": [
    {
     "data": {
      "text/plain": [
       "<Axes: xlabel='age_mean_filled', ylabel='Count'>"
      ]
     },
     "execution_count": 17,
     "metadata": {},
     "output_type": "execute_result"
    },
    {
     "data": {
      "image/png": "[encoded data removed]",
      "text/plain": [
       "<Figure size 640x480 with 1 Axes>"
      ]
     },
     "metadata": {},
     "output_type": "display_data"
    }
   ],
   "source": [
    "# make transformartion\n",
    "train_df[\"age_mean_filled\"]= train_df['age']\n",
    "train_df['age_mean_filled'].fillna(train_df[\"age\"].mean(), inplace=True)\n",
    "\n",
    "# obtain histogram\n",
    "sns.histplot(train_df,\n",
    "            x='age_mean_filled')"
   ]
  },
  {
   "cell_type": "markdown",
   "id": "ae2ff419-e1b1-48d6-b9d6-a7670db9ea09",
   "metadata": {},
   "source": [
    "<b> Fill <i> age </i> with values from the fitted normal distribution.\n",
    "\n",
    "<b>Fit a normal distribution to the 'age' column, then draw a sample from that distribution and fill the missing values using the sample. The resulting histogram is more similar to the original data. \n",
    "\n",
    "<b>Looks promising, include.\n",
    "\n",
    "</b>"
   ]
  },
  {
   "cell_type": "code",
   "execution_count": 62,
   "id": "5a86f0b9-c370-4590-8c53-f8208657055a",
   "metadata": {},
   "outputs": [
    {
     "data": {
      "text/plain": [
       "<Axes: xlabel='age_norm_filled', ylabel='Count'>"
      ]
     },
     "execution_count": 62,
     "metadata": {},
     "output_type": "execute_result"
    },
    {
     "data": {
      "image/png": "[encoded data removed]",
      "text/plain": [
       "<Figure size 640x480 with 1 Axes>"
      ]
     },
     "metadata": {},
     "output_type": "display_data"
    }
   ],
   "source": [
    "# create the feature column to be filled...\n",
    "train_df['age_norm_filled'] = train_df['age']\n",
    "\n",
    "# fit normal distribution to the training datas' age feature after removing missing values\n",
    "age_nona = train_df[train_df['age'].isna() == False]['age']\n",
    "fit_params = norm.fit(age_nona)\n",
    "mean, std_dev = fit_params\n",
    "\n",
    "# draw a random sample from the distribution\n",
    "random_sample = norm.rvs(mean, std_dev, size=200, random_state=42)\n",
    "# limit the sample values to be > 0\n",
    "positive_random_sample = random_sample[random_sample > 0]\n",
    "\n",
    "# obtain the indices of the missing values\n",
    "missing_indices = train_df.index[train_df['age_norm_filled'].isnull()]\n",
    "\n",
    "# fill the instances with the random sample\n",
    "train_df.loc[missing_indices, 'age_norm_filled'] = positive_random_sample[:len(missing_indices)]\n",
    "\n",
    "# obtain histogram\n",
    "sns.histplot(train_df,\n",
    "            x='age_norm_filled')"
   ]
  },
  {
   "cell_type": "markdown",
   "id": "69579ca7-84ba-4f98-8dc2-46abcc13f90a",
   "metadata": {},
   "source": [
    "<b> \n",
    "Looking at the heatmap of the categorized and norm-filled 'age' we can see that the lowest survival rates are between 17-29 and that the highest survival rates are amongs those under 17. The groups above 30 have a similar survival rate.\n",
    "\n",
    "Looks promising, should include as feature.\n",
    "</b>"
   ]
  },
  {
   "cell_type": "code",
   "execution_count": 19,
   "id": "1e8c2cc0-96bd-4dbf-906f-5eacf4205c3c",
   "metadata": {},
   "outputs": [
    {
     "data": {
      "image/png": "[encoded data removed]",
      "text/plain": [
       "<Figure size 640x480 with 2 Axes>"
      ]
     },
     "metadata": {},
     "output_type": "display_data"
    }
   ],
   "source": [
    "# categorize 'age_norm_filled'\n",
    "age_norm_filled_binned = pd.qcut(train_df['age_norm_filled'], q=20)\n",
    "\n",
    "# obtain contingency table of categorised 'fare' and 'survived'\n",
    "age_filled_contingency_table = pd.crosstab(age_norm_filled_binned, train_df['survived'])\n",
    "\n",
    "# obtain relative row percentages\n",
    "row_totals = age_filled_contingency_table.sum(axis=1)\n",
    "row_percentages = pd.DataFrame({'0': age_filled_contingency_table[0]/row_totals*100, \n",
    "                                '1': age_filled_contingency_table[1]/row_totals*100})\n",
    "\n",
    "# obtain heatmap\n",
    "sns.heatmap(age_filled_contingency_table, annot=row_percentages, cmap='viridis', fmt=\".2f\", linewidth=0.5)\n",
    "\n",
    "train_df['age_norm_filled_binned'] = age_norm_filled_binned"
   ]
  },
  {
   "cell_type": "markdown",
   "id": "96da8464-ce71-432b-a38e-68e8ea581251",
   "metadata": {},
   "source": [
    "<b> \n",
    "Square transform <i> age </i> fill from a fitted beta distribution.\n",
    "\n",
    "Nothing special, do not include.\n",
    "</b>"
   ]
  },
  {
   "cell_type": "code",
   "execution_count": 20,
   "id": "8fb1e3fd-f9ef-4162-835e-bd9c6c1064d8",
   "metadata": {},
   "outputs": [
    {
     "data": {
      "text/plain": [
       "<Axes: xlabel='age_sqr_beta_filled', ylabel='Count'>"
      ]
     },
     "execution_count": 20,
     "metadata": {},
     "output_type": "execute_result"
    },
    {
     "data": {
      "image/png": "[encoded data removed]",
      "text/plain": [
       "<Figure size 640x480 with 1 Axes>"
      ]
     },
     "metadata": {},
     "output_type": "display_data"
    }
   ],
   "source": [
    "# create the feature column to be filled with sqr transformed age values (in order that it fits the beta dist more)\n",
    "train_df['age_sqr_beta_filled'] = train_df['age']**2\n",
    "\n",
    "# fit beta distribution to the training datas'\n",
    "age_nona = train_df[train_df['age_sqr_beta_filled'].isna() == False]['age_sqr_beta_filled']\n",
    "fit_params = beta.fit(age_nona)\n",
    "a, b, c, d = fit_params\n",
    "\n",
    "# draw a random sample from the distribution\n",
    "random_sample = beta.rvs(a, b, loc=c, scale=d, size=177, random_state=42)\n",
    "\n",
    "# obtain the indices of the missing values\n",
    "missing_indices = train_df.index[train_df['age_sqr_beta_filled'].isnull()]\n",
    "\n",
    "# fill the instances with the random sample\n",
    "train_df.loc[missing_indices, 'age_sqr_beta_filled'] = random_sample\n",
    "\n",
    "# obtain histogram\n",
    "sns.histplot(train_df,\n",
    "            x='age_sqr_beta_filled')"
   ]
  },
  {
   "cell_type": "markdown",
   "id": "8bcc0f3d-9ca1-4c6a-8589-3725e69de8c5",
   "metadata": {
    "jp-MarkdownHeadingCollapsed": true
   },
   "source": [
    "### 'pclass'"
   ]
  },
  {
   "cell_type": "markdown",
   "id": "cfd7f240-6266-47ec-9e57-b30f4886c71f",
   "metadata": {},
   "source": [
    "<b> The chi-squared test results in a very low p-value suggesting that there is a definite correlation between 'pclass' and 'survived'. \n",
    "    \n",
    "<b> The heatmap of 'pclass' and 'survived' that show a pattern of decreasing relative-frequency of the survival rate as the passenger class goes up. The heatmaps for expected and observed frequencies are different.\n",
    "\n",
    "<b> Looks promising, should be included.\n",
    "</b>"
   ]
  },
  {
   "cell_type": "code",
   "execution_count": 21,
   "id": "9c063e73-122b-4198-861a-bf18dc369c74",
   "metadata": {},
   "outputs": [
    {
     "name": "stdout",
     "output_type": "stream",
     "text": [
      "The test statistic is: 102.88898875696056\n",
      "The p-value is: 4.549251711298793e-23\n",
      "The degrees of freedom is: 2\n"
     ]
    }
   ],
   "source": [
    "# Obtain contingency table of 'pclass' and 'survived'\n",
    "pclass_contingency_table = pd.crosstab(train_df['pclass'], train_df['survived'])\n",
    "\n",
    "# claculate chi-squared test for 'pclass' and 'survived'\n",
    "chi2, p, _, __ = chi2_contingency(pclass_contingency_table)\n",
    "print(f\"The test statistic is: {chi2}\\nThe p-value is: {p}\\nThe degrees of freedom is: {_}\")"
   ]
  },
  {
   "cell_type": "code",
   "execution_count": 22,
   "id": "30998317-cc11-4c89-b361-18369a2a1466",
   "metadata": {},
   "outputs": [
    {
     "data": {
      "text/plain": [
       "<Axes: >"
      ]
     },
     "execution_count": 22,
     "metadata": {},
     "output_type": "execute_result"
    },
    {
     "data": {
      "image/png": "[encoded data removed]",
      "text/plain": [
       "<Figure size 640x480 with 2 Axes>"
      ]
     },
     "metadata": {},
     "output_type": "display_data"
    }
   ],
   "source": [
    "# obtain a heatmap of the expected values of 'pclass' and 'survived' from the chi-squared dist.\n",
    "sns.heatmap(__, annot=True, cmap='viridis', fmt=\".2f\", linewidth=0.5)"
   ]
  },
  {
   "cell_type": "code",
   "execution_count": 24,
   "id": "fff5b9c7-0b80-4282-a0e1-695f77a4d614",
   "metadata": {},
   "outputs": [
    {
     "data": {
      "text/plain": [
       "<Axes: xlabel='survived', ylabel='pclass'>"
      ]
     },
     "execution_count": 24,
     "metadata": {},
     "output_type": "execute_result"
    },
    {
     "data": {
      "image/png": "[encoded data removed]",
      "text/plain": [
       "<Figure size 640x480 with 2 Axes>"
      ]
     },
     "metadata": {},
     "output_type": "display_data"
    }
   ],
   "source": [
    "# obtain a heatmap of the observed frequencies of 'pclass' and 'survived'\n",
    "sns.heatmap(pclass_contingency_table, annot=True, cmap='viridis', fmt=\".2f\", linewidth=0.5)"
   ]
  },
  {
   "cell_type": "markdown",
   "id": "9e5c2c29-c92e-4d34-a920-366d06b90c19",
   "metadata": {
    "jp-MarkdownHeadingCollapsed": true
   },
   "source": [
    "### 'fare'"
   ]
  },
  {
   "cell_type": "markdown",
   "id": "de599d49-ae05-460b-a5d4-f883065e780b",
   "metadata": {},
   "source": [
    "<b> Looking at a histogram of 'fare', we can see an increase in relative survival rate as 'fare' goes up.\n",
    "\n",
    "<b> After categorising 'fare' we can see the survival rate increasing as fare goes up. \n",
    "\n",
    "<b> Looks promising, both should be included.\n",
    "</b>"
   ]
  },
  {
   "cell_type": "code",
   "execution_count": 25,
   "id": "d86cd9d1-c583-4bc7-a7ce-c51af9ebccbb",
   "metadata": {},
   "outputs": [
    {
     "data": {
      "text/plain": [
       "<Axes: xlabel='fare', ylabel='Count'>"
      ]
     },
     "execution_count": 25,
     "metadata": {},
     "output_type": "execute_result"
    },
    {
     "data": {
      "image/png": "[encoded data removed]",
      "text/plain": [
       "<Figure size 640x480 with 1 Axes>"
      ]
     },
     "metadata": {},
     "output_type": "display_data"
    }
   ],
   "source": [
    "sns.histplot(train_df[train_df['fare'] < 200],\n",
    "             x='fare',\n",
    "            hue='survived',\n",
    "            multiple='stack')"
   ]
  },
  {
   "cell_type": "code",
   "execution_count": 26,
   "id": "8eeb7369-a4d6-47d7-b330-18997006f4c4",
   "metadata": {},
   "outputs": [
    {
     "data": {
      "text/plain": [
       "<Axes: xlabel='survived', ylabel='fare'>"
      ]
     },
     "execution_count": 26,
     "metadata": {},
     "output_type": "execute_result"
    },
    {
     "data": {
      "image/png": "[encoded data removed]",
      "text/plain": [
       "<Figure size 640x480 with 2 Axes>"
      ]
     },
     "metadata": {},
     "output_type": "display_data"
    }
   ],
   "source": [
    "# categorise 'fare' into 3 bins\n",
    "binned_fare = pd.qcut(train_df['fare'], q=20)\n",
    "\n",
    "# obtain contingency table of categorised 'fare' and 'survived'\n",
    "fare_contingency_table = pd.crosstab(binned_fare, train_df['survived'])\n",
    "\n",
    "# # obtain relative row percentages\n",
    "# row_totals = fare_contingency_table.sum(axis=1)\n",
    "# row_percentages = pd.DataFrame({'0': fare_contingency_table[0]/row_totals*100, \n",
    "#                                 '1': fare_contingency_table[1]/row_totals*100})\n",
    "\n",
    "# obtain heatmap\n",
    "sns.heatmap(fare_contingency_table, annot=True, cmap='viridis', linewidth=0.5)"
   ]
  },
  {
   "cell_type": "code",
   "execution_count": 27,
   "id": "e6a67d41-1821-4871-91b0-586e67603b08",
   "metadata": {},
   "outputs": [],
   "source": [
    "# add the binned 'fare' as a feature to the training data\n",
    "train_df['binned_fare'] = binned_fare"
   ]
  },
  {
   "cell_type": "markdown",
   "id": "f2dd7302-39bf-46ae-a128-437075b416d1",
   "metadata": {},
   "source": [
    "### 'sibsp' & 'parch'"
   ]
  },
  {
   "cell_type": "markdown",
   "id": "d916030f-df49-4cee-b260-9b62160eee07",
   "metadata": {},
   "source": [
    "<b> 'sibsp' and 'parch' are very similar and difficult to comprehend.\n",
    "\n",
    "<b>Create new feature <i>'alone'</i> that signifies whether someone was alone (sibsp and parch both are 0)\n",
    "\n",
    "<b> Uncertain, both should be included\n",
    "</b>"
   ]
  },
  {
   "cell_type": "code",
   "execution_count": 28,
   "id": "72065f06-5927-466b-ac95-9dd4a57ecdfc",
   "metadata": {},
   "outputs": [],
   "source": [
    "train_df['alone'] = (train_df['sibsp'] == 0) & (train_df['parch'] == 0)"
   ]
  },
  {
   "cell_type": "markdown",
   "id": "1a1a26d6-25b9-4f8d-9529-42272f565108",
   "metadata": {},
   "source": [
    "### 'embarked'"
   ]
  },
  {
   "cell_type": "markdown",
   "id": "6bfd4c0a-fb72-49f5-b19d-63bec2b0c282",
   "metadata": {},
   "source": [
    "<b> Missing some values, so fill in <i> embarked </i> with the most popular value \n",
    "\n",
    "<b> Unlikely to be predictive, but include at first.\n",
    "\n",
    "</b>"
   ]
  },
  {
   "cell_type": "code",
   "execution_count": 29,
   "id": "490853c8-01d8-4dfa-bc0e-3db915c10ba8",
   "metadata": {},
   "outputs": [],
   "source": [
    "train_df['embarked'].fillna(train_df['embarked'].mode()[0], inplace=True)"
   ]
  },
  {
   "cell_type": "markdown",
   "id": "0ba4579a-892f-44d5-9005-4d7d4249d95c",
   "metadata": {},
   "source": [
    "# Initial model training and evaluation"
   ]
  },
  {
   "cell_type": "markdown",
   "id": "dcf11378-a46a-486a-90b1-6044ad12ca3c",
   "metadata": {},
   "source": [
    "<b>Get training and test labels</b>"
   ]
  },
  {
   "cell_type": "code",
   "execution_count": 31,
   "id": "be9d25be-0725-4c86-8159-e8ecce0df13f",
   "metadata": {},
   "outputs": [],
   "source": [
    "y_train = train_df['survived']\n",
    "y_test = test_df['survived']"
   ]
  },
  {
   "cell_type": "markdown",
   "id": "095e9839-a732-4807-9b1e-86da07bdfd83",
   "metadata": {},
   "source": [
    "<b>Select features\n",
    "\n",
    "</b>"
   ]
  },
  {
   "cell_type": "code",
   "execution_count": 32,
   "id": "fba46209-4ed8-430a-a25e-392c9e1b2d7a",
   "metadata": {},
   "outputs": [],
   "source": [
    "features = ['pclass', 'sex', 'sibsp', 'parch', 'fare', 'embarked', 'binned_fare', \n",
    "            'age_norm_filled', 'age_norm_filled_binned', 'alone']\n",
    "X_train = pd.get_dummies(train_df[features])"
   ]
  },
  {
   "cell_type": "markdown",
   "id": "fdf93f3a-be71-42ad-9ea0-6646d6b64c67",
   "metadata": {},
   "source": [
    "<b>Specify the models to be trained\n",
    "\n",
    "<b>We select a range of classification algorithms and evaluate them using k-fold validation.\n",
    "\n",
    "</b>"
   ]
  },
  {
   "cell_type": "code",
   "execution_count": 33,
   "id": "b07a72c4-1f46-438d-9179-cd3f3f1268b4",
   "metadata": {},
   "outputs": [],
   "source": [
    "models = [LogisticRegression(), DecisionTreeClassifier(), RandomForestClassifier(), SVC(), GaussianNB(),\n",
    "         KNeighborsClassifier(), MLPClassifier(), AdaBoostClassifier()]\n",
    "model_names = [\"LogisticRegression\", \"DecisionTreeClassifier\", \"RandomForestClassifier\", \n",
    "               \"SVC\", \"GaussianNB\",\"KNeighborsClassifier\", \"MLPClassifier\", \n",
    "               \"AdaBoostClassifier\"]"
   ]
  },
  {
   "cell_type": "markdown",
   "id": "88858dc7-babf-4bc9-91b8-f2263e3a3944",
   "metadata": {},
   "source": [
    "<b> Train and evaluate the models using the function specified above.</b>"
   ]
  },
  {
   "cell_type": "code",
   "execution_count": 34,
   "id": "a81f9e62-8360-4a83-91c6-9501b6ba462d",
   "metadata": {
    "scrolled": true
   },
   "outputs": [
    {
     "data": {
      "text/html": [
       "<div>\n",
       "<style scoped>\n",
       "    .dataframe tbody tr th:only-of-type {\n",
       "        vertical-align: middle;\n",
       "    }\n",
       "\n",
       "    .dataframe tbody tr th {\n",
       "        vertical-align: top;\n",
       "    }\n",
       "\n",
       "    .dataframe thead th {\n",
       "        text-align: right;\n",
       "    }\n",
       "</style>\n",
       "<table border=\"1\" class=\"dataframe\">\n",
       "  <thead>\n",
       "    <tr style=\"text-align: right;\">\n",
       "      <th></th>\n",
       "      <th>Accuracy</th>\n",
       "      <th>Mean Acc.</th>\n",
       "      <th>Std. Dev.</th>\n",
       "      <th>Fitting</th>\n",
       "    </tr>\n",
       "  </thead>\n",
       "  <tbody>\n",
       "    <tr>\n",
       "      <th>RandomForestClassifier</th>\n",
       "      <td>0.988777</td>\n",
       "      <td>0.807004</td>\n",
       "      <td>0.041417</td>\n",
       "      <td>0.181773</td>\n",
       "    </tr>\n",
       "    <tr>\n",
       "      <th>AdaBoostClassifier</th>\n",
       "      <td>0.836139</td>\n",
       "      <td>0.800262</td>\n",
       "      <td>0.025163</td>\n",
       "      <td>0.035877</td>\n",
       "    </tr>\n",
       "    <tr>\n",
       "      <th>LogisticRegression</th>\n",
       "      <td>0.830527</td>\n",
       "      <td>0.793508</td>\n",
       "      <td>0.025057</td>\n",
       "      <td>0.037019</td>\n",
       "    </tr>\n",
       "    <tr>\n",
       "      <th>DecisionTreeClassifier</th>\n",
       "      <td>0.988777</td>\n",
       "      <td>0.774482</td>\n",
       "      <td>0.040755</td>\n",
       "      <td>0.214295</td>\n",
       "    </tr>\n",
       "    <tr>\n",
       "      <th>MLPClassifier</th>\n",
       "      <td>0.867565</td>\n",
       "      <td>0.771136</td>\n",
       "      <td>0.047902</td>\n",
       "      <td>0.096428</td>\n",
       "    </tr>\n",
       "    <tr>\n",
       "      <th>GaussianNB</th>\n",
       "      <td>0.750842</td>\n",
       "      <td>0.707191</td>\n",
       "      <td>0.041302</td>\n",
       "      <td>0.043651</td>\n",
       "    </tr>\n",
       "    <tr>\n",
       "      <th>KNeighborsClassifier</th>\n",
       "      <td>0.795735</td>\n",
       "      <td>0.699276</td>\n",
       "      <td>0.052703</td>\n",
       "      <td>0.096459</td>\n",
       "    </tr>\n",
       "    <tr>\n",
       "      <th>SVC</th>\n",
       "      <td>0.681257</td>\n",
       "      <td>0.676854</td>\n",
       "      <td>0.048456</td>\n",
       "      <td>0.004403</td>\n",
       "    </tr>\n",
       "  </tbody>\n",
       "</table>\n",
       "</div>"
      ],
      "text/plain": [
       "                        Accuracy  Mean Acc.  Std. Dev.   Fitting\n",
       "RandomForestClassifier  0.988777   0.807004   0.041417  0.181773\n",
       "AdaBoostClassifier      0.836139   0.800262   0.025163  0.035877\n",
       "LogisticRegression      0.830527   0.793508   0.025057  0.037019\n",
       "DecisionTreeClassifier  0.988777   0.774482   0.040755  0.214295\n",
       "MLPClassifier           0.867565   0.771136   0.047902  0.096428\n",
       "GaussianNB              0.750842   0.707191   0.041302  0.043651\n",
       "KNeighborsClassifier    0.795735   0.699276   0.052703  0.096459\n",
       "SVC                     0.681257   0.676854   0.048456  0.004403"
      ]
     },
     "execution_count": 34,
     "metadata": {},
     "output_type": "execute_result"
    }
   ],
   "source": [
    "initial_models = train_models(models, model_names)\n",
    "initial_models"
   ]
  },
  {
   "cell_type": "markdown",
   "id": "ce406db5-0d5b-4cd5-b10e-4a4ad286bed5",
   "metadata": {
    "jp-MarkdownHeadingCollapsed": true
   },
   "source": [
    "# Further Model training & evaluation - 2"
   ]
  },
  {
   "cell_type": "markdown",
   "id": "967677b7-024d-4c78-96cd-c078b0ed18b5",
   "metadata": {},
   "source": [
    "<b> Optimize random forest classifier, the best performing method.</b>"
   ]
  },
  {
   "cell_type": "code",
   "execution_count": 35,
   "id": "f024e66d-04eb-4fde-b878-22b84e0271bf",
   "metadata": {},
   "outputs": [
    {
     "name": "stdout",
     "output_type": "stream",
     "text": [
      "Best Parameters: {'min_samples_leaf': 2, 'min_samples_split': 10, 'n_estimators': 300}\n",
      "Best score: 0.8283284162952734\n"
     ]
    }
   ],
   "source": [
    "# Sample parameter grid for Random Forest Classifier\n",
    "param_grid = {\n",
    "    'n_estimators': [100, 200, 300, 400],          # Number of trees in the forest\n",
    "    'min_samples_split': [5, 10, 20],          # Minimum number of samples required to split an internal node\n",
    "    'min_samples_leaf': [1, 2, 4],            # Minimum number of samples required to be at a leaf node\n",
    "}\n",
    "\n",
    "# Create a Random Forest Classifier model\n",
    "rf_classifier = RandomForestClassifier(bootstrap=False, criterion='gini', max_depth=None, max_features='sqrt', random_state=42,\n",
    "                                      min_samples_leaf=4, min_samples_split=10, n_estimators=200)\n",
    "\n",
    "# Perform grid search\n",
    "rf_grid_search = GridSearchCV(rf_classifier, param_grid, cv=5, scoring='accuracy')\n",
    "rf_grid_search.fit(X_train, y_train)\n",
    "rf_classifier_optimized = rf_grid_search.best_estimator_\n",
    "\n",
    "\n",
    "# Get the best parameters\n",
    "best_params = rf_grid_search.best_params_\n",
    "best_score = rf_grid_search.best_score_\n",
    "print(f\"Best Parameters: {best_params}\\nBest score: {best_score}\")"
   ]
  },
  {
   "cell_type": "markdown",
   "id": "d3f0d7a4-3ef0-4b80-a6b7-28fe9e76afeb",
   "metadata": {},
   "source": [
    "<b> Obtain a table of features in descending order of importance </b>"
   ]
  },
  {
   "cell_type": "code",
   "execution_count": 36,
   "id": "d1788278-d2d6-42c8-aaca-fb85d81b478d",
   "metadata": {},
   "outputs": [
    {
     "data": {
      "text/html": [
       "<div>\n",
       "<style scoped>\n",
       "    .dataframe tbody tr th:only-of-type {\n",
       "        vertical-align: middle;\n",
       "    }\n",
       "\n",
       "    .dataframe tbody tr th {\n",
       "        vertical-align: top;\n",
       "    }\n",
       "\n",
       "    .dataframe thead th {\n",
       "        text-align: right;\n",
       "    }\n",
       "</style>\n",
       "<table border=\"1\" class=\"dataframe\">\n",
       "  <thead>\n",
       "    <tr style=\"text-align: right;\">\n",
       "      <th></th>\n",
       "      <th>Feature</th>\n",
       "      <th>Importances</th>\n",
       "    </tr>\n",
       "  </thead>\n",
       "  <tbody>\n",
       "    <tr>\n",
       "      <th>6</th>\n",
       "      <td>sex_female</td>\n",
       "      <td>0.213964</td>\n",
       "    </tr>\n",
       "    <tr>\n",
       "      <th>7</th>\n",
       "      <td>sex_male</td>\n",
       "      <td>0.197061</td>\n",
       "    </tr>\n",
       "    <tr>\n",
       "      <th>3</th>\n",
       "      <td>fare</td>\n",
       "      <td>0.115418</td>\n",
       "    </tr>\n",
       "    <tr>\n",
       "      <th>0</th>\n",
       "      <td>pclass</td>\n",
       "      <td>0.096311</td>\n",
       "    </tr>\n",
       "    <tr>\n",
       "      <th>4</th>\n",
       "      <td>age_norm_filled</td>\n",
       "      <td>0.077513</td>\n",
       "    </tr>\n",
       "    <tr>\n",
       "      <th>1</th>\n",
       "      <td>sibsp</td>\n",
       "      <td>0.032334</td>\n",
       "    </tr>\n",
       "    <tr>\n",
       "      <th>2</th>\n",
       "      <td>parch</td>\n",
       "      <td>0.022286</td>\n",
       "    </tr>\n",
       "    <tr>\n",
       "      <th>5</th>\n",
       "      <td>alone</td>\n",
       "      <td>0.016278</td>\n",
       "    </tr>\n",
       "    <tr>\n",
       "      <th>31</th>\n",
       "      <td>age_norm_filled_binned_(0.419, 4.383]</td>\n",
       "      <td>0.014393</td>\n",
       "    </tr>\n",
       "    <tr>\n",
       "      <th>39</th>\n",
       "      <td>age_norm_filled_binned_(25.0, 27.0]</td>\n",
       "      <td>0.014165</td>\n",
       "    </tr>\n",
       "    <tr>\n",
       "      <th>8</th>\n",
       "      <td>embarked_C</td>\n",
       "      <td>0.012914</td>\n",
       "    </tr>\n",
       "    <tr>\n",
       "      <th>10</th>\n",
       "      <td>embarked_S</td>\n",
       "      <td>0.012657</td>\n",
       "    </tr>\n",
       "    <tr>\n",
       "      <th>24</th>\n",
       "      <td>binned_fare_(26.0, 27.0]</td>\n",
       "      <td>0.011609</td>\n",
       "    </tr>\n",
       "    <tr>\n",
       "      <th>30</th>\n",
       "      <td>binned_fare_(112.079, 512.329]</td>\n",
       "      <td>0.009129</td>\n",
       "    </tr>\n",
       "    <tr>\n",
       "      <th>29</th>\n",
       "      <td>binned_fare_(77.958, 112.079]</td>\n",
       "      <td>0.008873</td>\n",
       "    </tr>\n",
       "    <tr>\n",
       "      <th>19</th>\n",
       "      <td>binned_fare_(10.5, 13.0]</td>\n",
       "      <td>0.007707</td>\n",
       "    </tr>\n",
       "    <tr>\n",
       "      <th>27</th>\n",
       "      <td>binned_fare_(39.688, 56.496]</td>\n",
       "      <td>0.007406</td>\n",
       "    </tr>\n",
       "    <tr>\n",
       "      <th>9</th>\n",
       "      <td>embarked_Q</td>\n",
       "      <td>0.006999</td>\n",
       "    </tr>\n",
       "    <tr>\n",
       "      <th>42</th>\n",
       "      <td>age_norm_filled_binned_(30.0, 32.0]</td>\n",
       "      <td>0.006951</td>\n",
       "    </tr>\n",
       "    <tr>\n",
       "      <th>32</th>\n",
       "      <td>age_norm_filled_binned_(4.383, 12.406]</td>\n",
       "      <td>0.006651</td>\n",
       "    </tr>\n",
       "    <tr>\n",
       "      <th>25</th>\n",
       "      <td>binned_fare_(27.0, 31.0]</td>\n",
       "      <td>0.005570</td>\n",
       "    </tr>\n",
       "    <tr>\n",
       "      <th>50</th>\n",
       "      <td>age_norm_filled_binned_(55.75, 80.0]</td>\n",
       "      <td>0.005539</td>\n",
       "    </tr>\n",
       "    <tr>\n",
       "      <th>34</th>\n",
       "      <td>age_norm_filled_binned_(17.0, 18.758]</td>\n",
       "      <td>0.005501</td>\n",
       "    </tr>\n",
       "    <tr>\n",
       "      <th>21</th>\n",
       "      <td>binned_fare_(14.454, 16.1]</td>\n",
       "      <td>0.005122</td>\n",
       "    </tr>\n",
       "    <tr>\n",
       "      <th>11</th>\n",
       "      <td>binned_fare_(-0.001, 7.225]</td>\n",
       "      <td>0.005079</td>\n",
       "    </tr>\n",
       "    <tr>\n",
       "      <th>41</th>\n",
       "      <td>age_norm_filled_binned_(28.58, 30.0]</td>\n",
       "      <td>0.005059</td>\n",
       "    </tr>\n",
       "    <tr>\n",
       "      <th>38</th>\n",
       "      <td>age_norm_filled_binned_(24.0, 25.0]</td>\n",
       "      <td>0.004830</td>\n",
       "    </tr>\n",
       "    <tr>\n",
       "      <th>37</th>\n",
       "      <td>age_norm_filled_binned_(22.0, 24.0]</td>\n",
       "      <td>0.004549</td>\n",
       "    </tr>\n",
       "    <tr>\n",
       "      <th>15</th>\n",
       "      <td>binned_fare_(7.854, 7.91]</td>\n",
       "      <td>0.004250</td>\n",
       "    </tr>\n",
       "    <tr>\n",
       "      <th>47</th>\n",
       "      <td>age_norm_filled_binned_(41.0, 45.0]</td>\n",
       "      <td>0.004190</td>\n",
       "    </tr>\n",
       "    <tr>\n",
       "      <th>16</th>\n",
       "      <td>binned_fare_(7.91, 8.05]</td>\n",
       "      <td>0.003655</td>\n",
       "    </tr>\n",
       "    <tr>\n",
       "      <th>44</th>\n",
       "      <td>age_norm_filled_binned_(34.0, 35.564]</td>\n",
       "      <td>0.003530</td>\n",
       "    </tr>\n",
       "    <tr>\n",
       "      <th>45</th>\n",
       "      <td>age_norm_filled_binned_(35.564, 38.0]</td>\n",
       "      <td>0.003406</td>\n",
       "    </tr>\n",
       "    <tr>\n",
       "      <th>35</th>\n",
       "      <td>age_norm_filled_binned_(18.758, 20.0]</td>\n",
       "      <td>0.003390</td>\n",
       "    </tr>\n",
       "    <tr>\n",
       "      <th>28</th>\n",
       "      <td>binned_fare_(56.496, 77.958]</td>\n",
       "      <td>0.003386</td>\n",
       "    </tr>\n",
       "    <tr>\n",
       "      <th>36</th>\n",
       "      <td>age_norm_filled_binned_(20.0, 22.0]</td>\n",
       "      <td>0.003349</td>\n",
       "    </tr>\n",
       "    <tr>\n",
       "      <th>18</th>\n",
       "      <td>binned_fare_(9.0, 10.5]</td>\n",
       "      <td>0.003280</td>\n",
       "    </tr>\n",
       "    <tr>\n",
       "      <th>17</th>\n",
       "      <td>binned_fare_(8.05, 9.0]</td>\n",
       "      <td>0.003279</td>\n",
       "    </tr>\n",
       "    <tr>\n",
       "      <th>23</th>\n",
       "      <td>binned_fare_(21.679, 26.0]</td>\n",
       "      <td>0.003101</td>\n",
       "    </tr>\n",
       "    <tr>\n",
       "      <th>40</th>\n",
       "      <td>age_norm_filled_binned_(27.0, 28.58]</td>\n",
       "      <td>0.003093</td>\n",
       "    </tr>\n",
       "    <tr>\n",
       "      <th>46</th>\n",
       "      <td>age_norm_filled_binned_(38.0, 41.0]</td>\n",
       "      <td>0.002893</td>\n",
       "    </tr>\n",
       "    <tr>\n",
       "      <th>33</th>\n",
       "      <td>age_norm_filled_binned_(12.406, 17.0]</td>\n",
       "      <td>0.002800</td>\n",
       "    </tr>\n",
       "    <tr>\n",
       "      <th>48</th>\n",
       "      <td>age_norm_filled_binned_(45.0, 49.387]</td>\n",
       "      <td>0.002798</td>\n",
       "    </tr>\n",
       "    <tr>\n",
       "      <th>20</th>\n",
       "      <td>binned_fare_(13.0, 14.454]</td>\n",
       "      <td>0.002590</td>\n",
       "    </tr>\n",
       "    <tr>\n",
       "      <th>26</th>\n",
       "      <td>binned_fare_(31.0, 39.688]</td>\n",
       "      <td>0.002520</td>\n",
       "    </tr>\n",
       "    <tr>\n",
       "      <th>12</th>\n",
       "      <td>binned_fare_(7.225, 7.55]</td>\n",
       "      <td>0.002516</td>\n",
       "    </tr>\n",
       "    <tr>\n",
       "      <th>43</th>\n",
       "      <td>age_norm_filled_binned_(32.0, 34.0]</td>\n",
       "      <td>0.002387</td>\n",
       "    </tr>\n",
       "    <tr>\n",
       "      <th>49</th>\n",
       "      <td>age_norm_filled_binned_(49.387, 55.75]</td>\n",
       "      <td>0.002189</td>\n",
       "    </tr>\n",
       "    <tr>\n",
       "      <th>22</th>\n",
       "      <td>binned_fare_(16.1, 21.679]</td>\n",
       "      <td>0.002127</td>\n",
       "    </tr>\n",
       "    <tr>\n",
       "      <th>13</th>\n",
       "      <td>binned_fare_(7.55, 7.75]</td>\n",
       "      <td>0.001846</td>\n",
       "    </tr>\n",
       "    <tr>\n",
       "      <th>14</th>\n",
       "      <td>binned_fare_(7.75, 7.854]</td>\n",
       "      <td>0.001554</td>\n",
       "    </tr>\n",
       "  </tbody>\n",
       "</table>\n",
       "</div>"
      ],
      "text/plain": [
       "                                   Feature  Importances\n",
       "6                               sex_female     0.213964\n",
       "7                                 sex_male     0.197061\n",
       "3                                     fare     0.115418\n",
       "0                                   pclass     0.096311\n",
       "4                          age_norm_filled     0.077513\n",
       "1                                    sibsp     0.032334\n",
       "2                                    parch     0.022286\n",
       "5                                    alone     0.016278\n",
       "31   age_norm_filled_binned_(0.419, 4.383]     0.014393\n",
       "39     age_norm_filled_binned_(25.0, 27.0]     0.014165\n",
       "8                               embarked_C     0.012914\n",
       "10                              embarked_S     0.012657\n",
       "24                binned_fare_(26.0, 27.0]     0.011609\n",
       "30          binned_fare_(112.079, 512.329]     0.009129\n",
       "29           binned_fare_(77.958, 112.079]     0.008873\n",
       "19                binned_fare_(10.5, 13.0]     0.007707\n",
       "27            binned_fare_(39.688, 56.496]     0.007406\n",
       "9                               embarked_Q     0.006999\n",
       "42     age_norm_filled_binned_(30.0, 32.0]     0.006951\n",
       "32  age_norm_filled_binned_(4.383, 12.406]     0.006651\n",
       "25                binned_fare_(27.0, 31.0]     0.005570\n",
       "50    age_norm_filled_binned_(55.75, 80.0]     0.005539\n",
       "34   age_norm_filled_binned_(17.0, 18.758]     0.005501\n",
       "21              binned_fare_(14.454, 16.1]     0.005122\n",
       "11             binned_fare_(-0.001, 7.225]     0.005079\n",
       "41    age_norm_filled_binned_(28.58, 30.0]     0.005059\n",
       "38     age_norm_filled_binned_(24.0, 25.0]     0.004830\n",
       "37     age_norm_filled_binned_(22.0, 24.0]     0.004549\n",
       "15               binned_fare_(7.854, 7.91]     0.004250\n",
       "47     age_norm_filled_binned_(41.0, 45.0]     0.004190\n",
       "16                binned_fare_(7.91, 8.05]     0.003655\n",
       "44   age_norm_filled_binned_(34.0, 35.564]     0.003530\n",
       "45   age_norm_filled_binned_(35.564, 38.0]     0.003406\n",
       "35   age_norm_filled_binned_(18.758, 20.0]     0.003390\n",
       "28            binned_fare_(56.496, 77.958]     0.003386\n",
       "36     age_norm_filled_binned_(20.0, 22.0]     0.003349\n",
       "18                 binned_fare_(9.0, 10.5]     0.003280\n",
       "17                 binned_fare_(8.05, 9.0]     0.003279\n",
       "23              binned_fare_(21.679, 26.0]     0.003101\n",
       "40    age_norm_filled_binned_(27.0, 28.58]     0.003093\n",
       "46     age_norm_filled_binned_(38.0, 41.0]     0.002893\n",
       "33   age_norm_filled_binned_(12.406, 17.0]     0.002800\n",
       "48   age_norm_filled_binned_(45.0, 49.387]     0.002798\n",
       "20              binned_fare_(13.0, 14.454]     0.002590\n",
       "26              binned_fare_(31.0, 39.688]     0.002520\n",
       "12               binned_fare_(7.225, 7.55]     0.002516\n",
       "43     age_norm_filled_binned_(32.0, 34.0]     0.002387\n",
       "49  age_norm_filled_binned_(49.387, 55.75]     0.002189\n",
       "22              binned_fare_(16.1, 21.679]     0.002127\n",
       "13                binned_fare_(7.55, 7.75]     0.001846\n",
       "14               binned_fare_(7.75, 7.854]     0.001554"
      ]
     },
     "execution_count": 36,
     "metadata": {},
     "output_type": "execute_result"
    }
   ],
   "source": [
    "feature_importance = pd.DataFrame({'Feature': X_train.columns, 'Importances': rf_classifier_optimized.feature_importances_})\n",
    "feature_importance.sort_values('Importances', ascending=False)"
   ]
  },
  {
   "cell_type": "markdown",
   "id": "770e51d0-45b9-45e8-9eca-d57fedcdff5a",
   "metadata": {},
   "source": [
    "<b>Select features\n",
    "\n",
    "<b>According to the table above, we arbitrarily select features with a score higher or around 0.1.\n",
    "\n",
    "</b>"
   ]
  },
  {
   "cell_type": "code",
   "execution_count": 50,
   "id": "1ddaeb31-faa1-41c5-ab28-3804a979dbbc",
   "metadata": {},
   "outputs": [],
   "source": [
    "features = ['pclass', 'sex', 'fare', 'sibsp', 'parch', 'age_norm_filled']\n",
    "X_train = pd.get_dummies(train_df[features])"
   ]
  },
  {
   "cell_type": "markdown",
   "id": "1e8697db-10b4-4fce-9091-e600771a8d37",
   "metadata": {},
   "source": [
    "<b> Optimize random forest classifier </b>"
   ]
  },
  {
   "cell_type": "code",
   "execution_count": 51,
   "id": "d9fb1a1e-d032-4597-8c1d-fa4a6ec8a1e9",
   "metadata": {},
   "outputs": [
    {
     "name": "stdout",
     "output_type": "stream",
     "text": [
      "Best Parameters: {'min_samples_leaf': 2, 'min_samples_split': 10, 'n_estimators': 100}\n",
      "Best score: 0.8328165212478815\n"
     ]
    }
   ],
   "source": [
    "# Sample parameter grid for Random Forest Classifier\n",
    "param_grid = {\n",
    "    'n_estimators': [50, 100, 200],          # Number of trees in the forest\n",
    "    'min_samples_split': [5, 10, 20],          # Minimum number of samples required to split an internal node\n",
    "    'min_samples_leaf': [1, 2, 4],            # Minimum number of samples required to be at a leaf node\n",
    "}\n",
    "\n",
    "# Create a Random Forest Classifier model\n",
    "rf_classifier = RandomForestClassifier(bootstrap=False, criterion='gini', max_depth=None, max_features='sqrt', random_state=42,\n",
    "                                      min_samples_leaf=4, min_samples_split=10, n_estimators=200)\n",
    "\n",
    "# Perform grid search\n",
    "rf_grid_search = GridSearchCV(rf_classifier, param_grid, cv=5, scoring='accuracy')\n",
    "rf_grid_search.fit(X_train, y_train)\n",
    "rf_classifier_optimized = rf_grid_search.best_estimator_\n",
    "\n",
    "\n",
    "# Get the best parameters\n",
    "best_params = rf_grid_search.best_params_\n",
    "best_score = rf_grid_search.best_score_\n",
    "print(f\"Best Parameters: {best_params}\\nBest score: {best_score}\")"
   ]
  },
  {
   "cell_type": "markdown",
   "id": "8a3baf35-aba2-410c-b005-8912a345acc4",
   "metadata": {},
   "source": [
    "<b> Obtain a table of features in descending order of importance.\n",
    "\n",
    "<b> After playing around with the features a while, the best validation scores appear when 'sibsp' and 'parch' are included.\n",
    "\n",
    "</b>"
   ]
  },
  {
   "cell_type": "code",
   "execution_count": 39,
   "id": "dfcb5449-f2c1-4b12-8a99-8cacafc59e53",
   "metadata": {},
   "outputs": [
    {
     "data": {
      "text/html": [
       "<div>\n",
       "<style scoped>\n",
       "    .dataframe tbody tr th:only-of-type {\n",
       "        vertical-align: middle;\n",
       "    }\n",
       "\n",
       "    .dataframe tbody tr th {\n",
       "        vertical-align: top;\n",
       "    }\n",
       "\n",
       "    .dataframe thead th {\n",
       "        text-align: right;\n",
       "    }\n",
       "</style>\n",
       "<table border=\"1\" class=\"dataframe\">\n",
       "  <thead>\n",
       "    <tr style=\"text-align: right;\">\n",
       "      <th></th>\n",
       "      <th>Feature</th>\n",
       "      <th>Importances</th>\n",
       "    </tr>\n",
       "  </thead>\n",
       "  <tbody>\n",
       "    <tr>\n",
       "      <th>4</th>\n",
       "      <td>sex_male</td>\n",
       "      <td>0.238294</td>\n",
       "    </tr>\n",
       "    <tr>\n",
       "      <th>3</th>\n",
       "      <td>sex_female</td>\n",
       "      <td>0.217579</td>\n",
       "    </tr>\n",
       "    <tr>\n",
       "      <th>1</th>\n",
       "      <td>fare</td>\n",
       "      <td>0.208291</td>\n",
       "    </tr>\n",
       "    <tr>\n",
       "      <th>2</th>\n",
       "      <td>age_norm_filled</td>\n",
       "      <td>0.196726</td>\n",
       "    </tr>\n",
       "    <tr>\n",
       "      <th>0</th>\n",
       "      <td>pclass</td>\n",
       "      <td>0.139110</td>\n",
       "    </tr>\n",
       "  </tbody>\n",
       "</table>\n",
       "</div>"
      ],
      "text/plain": [
       "           Feature  Importances\n",
       "4         sex_male     0.238294\n",
       "3       sex_female     0.217579\n",
       "1             fare     0.208291\n",
       "2  age_norm_filled     0.196726\n",
       "0           pclass     0.139110"
      ]
     },
     "execution_count": 39,
     "metadata": {},
     "output_type": "execute_result"
    }
   ],
   "source": [
    "feature_importance = pd.DataFrame({'Feature': X_train.columns, 'Importances': rf_classifier_optimized.feature_importances_})\n",
    "feature_importance.sort_values('Importances', ascending=False)"
   ]
  },
  {
   "cell_type": "markdown",
   "id": "48d3f2e8-e481-48ff-a31f-2e9068770faa",
   "metadata": {},
   "source": [
    "# Test"
   ]
  },
  {
   "cell_type": "markdown",
   "id": "e697d5e9-5fe6-4a52-bc4a-d6533573eeb8",
   "metadata": {},
   "source": [
    "<b> We add the missing 'age_norm_filled' feature to the test data, by sampling the fitted normal distribution from earlier. We replace the missing values the same way.\n",
    "\n",
    "<b> Note; we are using the distribution fitted to the test data.\n",
    "\n",
    "</b>"
   ]
  },
  {
   "cell_type": "code",
   "execution_count": 65,
   "id": "ee7791c7-22ab-46cb-afbe-4e619dd64f2d",
   "metadata": {},
   "outputs": [],
   "source": [
    "# create the feature column to be filled...\n",
    "test_df['age_norm_filled'] = test_df['age']\n",
    "# draw a random sample from the distribution\n",
    "random_sample = norm.rvs(mean, std_dev, size=150, random_state=42)\n",
    "# limit the sample values to be > 0\n",
    "positive_random_sample = random_sample[random_sample > 0]\n",
    "\n",
    "# obtain the indices of the missing values\n",
    "missing_indices = test_df.index[test_df['age_norm_filled'].isnull()]\n",
    "\n",
    "# fill the instances with the random sample\n",
    "test_df.loc[missing_indices, 'age_norm_filled'] = positive_random_sample[:len(missing_indices)]"
   ]
  },
  {
   "cell_type": "markdown",
   "id": "df9c57bb-a3a7-4c96-8151-7cdde8ec8dca",
   "metadata": {},
   "source": [
    "<b>Fare is missing a value which we'll fill with the mean of 'fare' from the training data. </b>"
   ]
  },
  {
   "cell_type": "code",
   "execution_count": 68,
   "id": "3f45f962-41d3-49c0-950a-3fdcde5bda65",
   "metadata": {},
   "outputs": [],
   "source": [
    "test_df['fare'].fillna(train_df['fare'].mean(), inplace=True)"
   ]
  },
  {
   "cell_type": "markdown",
   "id": "d2f9b12a-faaf-44d5-a208-a1092ff162e0",
   "metadata": {},
   "source": [
    "<b>Now the test data looks ready.</b>"
   ]
  },
  {
   "cell_type": "code",
   "execution_count": 69,
   "id": "4d5fc7c7-b30f-46d3-8a53-baa0217c64a5",
   "metadata": {},
   "outputs": [
    {
     "name": "stdout",
     "output_type": "stream",
     "text": [
      "<class 'pandas.core.frame.DataFrame'>\n",
      "RangeIndex: 418 entries, 0 to 417\n",
      "Data columns (total 10 columns):\n",
      " #   Column           Non-Null Count  Dtype  \n",
      "---  ------           --------------  -----  \n",
      " 0   survived         418 non-null    int64  \n",
      " 1   pclass           418 non-null    int64  \n",
      " 2   name             418 non-null    object \n",
      " 3   sex              418 non-null    object \n",
      " 4   age              332 non-null    float64\n",
      " 5   sibsp            418 non-null    int64  \n",
      " 6   parch            418 non-null    int64  \n",
      " 7   fare             418 non-null    float64\n",
      " 8   embarked         418 non-null    object \n",
      " 9   age_norm_filled  418 non-null    float64\n",
      "dtypes: float64(3), int64(4), object(3)\n",
      "memory usage: 32.8+ KB\n"
     ]
    }
   ],
   "source": [
    "test_df.info()"
   ]
  },
  {
   "cell_type": "markdown",
   "id": "387cd17f-53dc-4c15-b832-3beb9d932ef0",
   "metadata": {},
   "source": [
    "<b>Obtain test data with selected features.\n",
    "</b>"
   ]
  },
  {
   "cell_type": "code",
   "execution_count": 76,
   "id": "66da6226-4efc-4fe8-9ce2-7487a8b2ebe1",
   "metadata": {},
   "outputs": [],
   "source": [
    "X_test = pd.get_dummies(test_df[features])"
   ]
  },
  {
   "cell_type": "markdown",
   "id": "ade17752-aa66-422a-ba9a-a5dc9825ec30",
   "metadata": {},
   "source": [
    "<b>Get predictions using our fitted model</b>"
   ]
  },
  {
   "cell_type": "code",
   "execution_count": 77,
   "id": "cc935f8a-d8ac-4d72-b43f-4af757a35004",
   "metadata": {},
   "outputs": [],
   "source": [
    "y_pred = rf_classifier_optimized.predict(X_test)"
   ]
  },
  {
   "cell_type": "code",
   "execution_count": 79,
   "id": "f123b60d-45ca-4734-adb6-765d01f14f50",
   "metadata": {},
   "outputs": [
    {
     "name": "stdout",
     "output_type": "stream",
     "text": [
      "The accuracy of the final model on the test data is: 0.7511961722488039\n"
     ]
    }
   ],
   "source": [
    "accuracy = accuracy_score(y_test, y_pred)\n",
    "print(f\"The accuracy of the final model on the test data is: {accuracy:}\")"
   ]
  },
  {
   "cell_type": "code",
   "execution_count": 1,
   "id": "0d2ce0eb-13b0-4ad4-8979-9dde41ff027c",
   "metadata": {},
   "outputs": [
    {
     "ename": "NameError",
     "evalue": "name 'aaa' is not defined",
     "output_type": "error",
     "traceback": [
      "\u001b[0;31m---------------------------------------------------------------------------\u001b[0m",
      "\u001b[0;31mNameError\u001b[0m                                 Traceback (most recent call last)",
      "Cell \u001b[0;32mIn[1], line 1\u001b[0m\n\u001b[0;32m----> 1\u001b[0m \u001b[43maaa\u001b[49m\n",
      "\u001b[0;31mNameError\u001b[0m: name 'aaa' is not defined"
     ]
    }
   ],
   "source": [
    "aaa"
   ]
  },
  {
   "cell_type": "code",
   "execution_count": null,
   "id": "68d30872-4be5-41f4-99a2-5df621625efd",
   "metadata": {},
   "outputs": [],
   "source": []
  }
 ],
 "metadata": {
  "kernelspec": {
   "display_name": "Python 3 (ipykernel)",
   "language": "python",
   "name": "python3"
  },
  "language_info": {
   "codemirror_mode": {
    "name": "ipython",
    "version": 3
   },
   "file_extension": ".py",
   "mimetype": "text/x-python",
   "name": "python",
   "nbconvert_exporter": "python",
   "pygments_lexer": "ipython3",
   "version": "3.12.0"
  }
 },
 "nbformat": 4,
 "nbformat_minor": 5
}
